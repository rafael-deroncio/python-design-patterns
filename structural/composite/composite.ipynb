{
 "cells": [
  {
   "cell_type": "markdown",
   "metadata": {},
   "source": [
    "![composite](Composite.png)\n",
    "\n",
    "1. A interface Componente descreve operações que são comuns tanto para elementos simples como para elementos complexos da árvore.\n",
    "\n",
    "2. A Folha é um elemento básico de uma árvore que não tem sub-elementos.\n",
    "   Geralmente, componentes folha acabam fazendo boa parte do verdadeiro trabalho, uma vez que não tem mais ninguém para delegá-lo.\n",
    "\n",
    "3. O Contêiner (ou composite) é o elemento que tem sub-elementos: folhas ou outros contêineres. Um contêiner não sabe a classe concreta de seus filhos. Ele trabalha com todos os sub-elementos apenas através da interface componente.\n",
    "   Ao receber um pedido, um contêiner delega o trabalho para seus sub-elementos, processa os resultados intermediários, e então retorna o resultado final para o cliente.\n",
    "\n",
    "4. O Cliente trabalha com todos os elementos através da interface componente. Como resultado, o cliente pode trabalhar da mesma forma tanto com elementos simples como elementos complexos da árvore.\n"
   ]
  },
  {
   "cell_type": "code",
   "execution_count": null,
   "metadata": {},
   "outputs": [],
   "source": []
  }
 ],
 "metadata": {
  "language_info": {
   "name": "python"
  },
  "orig_nbformat": 4
 },
 "nbformat": 4,
 "nbformat_minor": 2
}
