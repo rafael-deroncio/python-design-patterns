{
 "cells": [
  {
   "cell_type": "markdown",
   "metadata": {},
   "source": [
    "![Composite](Composite.png)\n",
    "\n",
    "1. A interface __Componente__ descreve operações que são comuns tanto para elementos simples como para elementos complexos da árvore.\n",
    "\n",
    "2. A __Folha__ é um elemento básico de uma árvore que não tem sub-elementos.  \n",
    "   \n",
    "   Geralmente, componentes folha acabam fazendo boa parte do verdadeiro trabalho, uma vez que não tem mais ninguém para delegá-lo.\n",
    "\n",
    "3. O __Contêiner__ (ou composite) é o elemento que tem sub-elementos: folhas ou outros contêineres. Um contêiner não sabe a classe concreta de seus filhos. Ele trabalha com todos os sub-elementos apenas através da interface componente.\n",
    "   \n",
    "   Ao receber um pedido, um contêiner delega o trabalho para seus sub-elementos, processa os resultados intermediários, e então retorna o resultado final para o cliente\n",
    "\n",
    "4. O __Cliente__ trabalha com todos os elementos através da interface componente. Como resultado, o cliente pode trabalhar da mesma forma tanto com elementos simples como elementos complexos da árvore."
   ]
  },
  {
   "cell_type": "code",
   "execution_count": 74,
   "metadata": {},
   "outputs": [],
   "source": [
    "from __future__ import annotations\n",
    "from abc import ABCMeta, abstractmethod\n",
    "from typing import List"
   ]
  },
  {
   "cell_type": "code",
   "execution_count": 75,
   "metadata": {},
   "outputs": [],
   "source": [
    "class IBox(metaclass = ABCMeta):\n",
    "    \"\"\" Component \"\"\"\n",
    "    @abstractmethod\n",
    "    def print_content(self) -> None: pass\n",
    "\n",
    "    @abstractmethod\n",
    "    def get_price(self) -> float: pass\n",
    "\n",
    "    def add(self, child: Box) -> None: pass\n",
    "\n",
    "    def remove(self, child: Box) -> None: pass"
   ]
  },
  {
   "cell_type": "code",
   "execution_count": 76,
   "metadata": {},
   "outputs": [],
   "source": [
    "class Box(IBox):\n",
    "    \"\"\" Composite \"\"\"\n",
    "\n",
    "    def __init__(self, name):\n",
    "        self.name = name\n",
    "        self._children: List[Box] = [] \n",
    "\n",
    "    def print_content(self) -> None:\n",
    "        print(self.name)\n",
    "        for child in self._children:\n",
    "            child.print_content()\n",
    "        print()\n",
    "\n",
    "    def get_price(self) -> float:\n",
    "        price = sum([\n",
    "            child.get_price() for child in self._children\n",
    "            ])\n",
    "        return price\n",
    "\n",
    "    def add(self, child: Box) -> None:\n",
    "        self._children.append(child)\n",
    "\n",
    "    def remove(self, child: Box) -> None:\n",
    "        if child in self._children:\n",
    "            self._children.remove(child)"
   ]
  },
  {
   "cell_type": "code",
   "execution_count": 77,
   "metadata": {},
   "outputs": [],
   "source": [
    "class Product(IBox):\n",
    "    \"\"\" Leaf \"\"\"\n",
    "    \n",
    "    def __init__(self, name, price):\n",
    "        self.name = name\n",
    "        self.price = price\n",
    "\n",
    "    def print_content(self) -> None:\n",
    "        print('\\t', self.name, self.price)\n",
    "\n",
    "    def get_price(self) -> float:\n",
    "        return self.price"
   ]
  },
  {
   "cell_type": "code",
   "execution_count": 78,
   "metadata": {},
   "outputs": [],
   "source": [
    "if __name__ == '__main__':\n",
    "\n",
    "    \"\"\" Composite1 \"\"\"\n",
    "    caixa1 = Box('Eletrônicos')\n",
    "\n",
    "    \"\"\" Leafs \"\"\"\n",
    "    eletronico1 = Product('Smartphone', 1699.90)\n",
    "    eletronico2 = Product('Geladeira', 3699.99)\n",
    "    eletronico3 = Product('Fogão', 899.90)\n",
    "    eletronico4 = Product('Carregador Smartphone', 99.90)\n",
    "\n",
    "    caixa1.add(eletronico1)\n",
    "    caixa1.add(eletronico2)\n",
    "    caixa1.add(eletronico3)\n",
    "    caixa1.add(eletronico4)\n",
    "\n",
    "    \"\"\" Composite2 \"\"\"\n",
    "    caixa2 = Box('Livros')\n",
    "\n",
    "    \"\"\" Leafs \"\"\"\n",
    "    livro1 = Product('Python Fluente', 98.86)\n",
    "    livro2 = Product('OO E Solid Para Ninjas', 69.90)\n",
    "    livro3 = Product('Código Limpo', 75.48)\n",
    "    livro4 = Product('Pense Em Python', 56.65)\n",
    "\n",
    "    caixa2.add(livro1)\n",
    "    caixa2.add(livro2)\n",
    "    caixa2.add(livro3)\n",
    "    caixa2.add(livro4)\n",
    "\n",
    "    \"\"\" Composite3 \"\"\"\n",
    "    caixa3 = Box('Caixa Grande')\n",
    "    caixa3.add(caixa1)\n",
    "    caixa3.add(caixa2)  "
   ]
  },
  {
   "cell_type": "code",
   "execution_count": 79,
   "metadata": {},
   "outputs": [
    {
     "name": "stdout",
     "output_type": "stream",
     "text": [
      "Caixa Grande\n",
      "Eletrônicos\n",
      "\t Smartphone 1699.9\n",
      "\t Geladeira 3699.99\n",
      "\t Fogão 899.9\n",
      "\t Carregador Smartphone 99.9\n",
      "\n",
      "Livros\n",
      "\t Python Fluente 98.86\n",
      "\t OO E Solid Para Ninjas 69.9\n",
      "\t Código Limpo 75.48\n",
      "\t Pense Em Python 56.65\n",
      "\n",
      "\n"
     ]
    }
   ],
   "source": [
    "    caixa3.get_price()\n",
    "    caixa3.print_content()"
   ]
  }
 ],
 "metadata": {
  "kernelspec": {
   "display_name": "Python 3.10.2 64-bit",
   "language": "python",
   "name": "python3"
  },
  "language_info": {
   "codemirror_mode": {
    "name": "ipython",
    "version": 3
   },
   "file_extension": ".py",
   "mimetype": "text/x-python",
   "name": "python",
   "nbconvert_exporter": "python",
   "pygments_lexer": "ipython3",
   "version": "3.10.2"
  },
  "orig_nbformat": 4,
  "vscode": {
   "interpreter": {
    "hash": "d3e10ef16274dd72e574b8fa73b58450b957d8421a2901baded3cca26fcf5dda"
   }
  }
 },
 "nbformat": 4,
 "nbformat_minor": 2
}
