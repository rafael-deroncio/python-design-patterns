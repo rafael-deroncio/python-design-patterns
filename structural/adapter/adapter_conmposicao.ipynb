{
 "cells": [
  {
   "cell_type": "markdown",
   "metadata": {},
   "source": [
    "![Adapter](Adapter%20-%20Composicao.png)\n",
    "\n",
    "1. O __Cliente__ é uma classe que contém a lógica de negócio do programa existente.\n",
    "\n",
    "2. A __Interface do Cliente__ descreve um protocolo que outras classes devem seguir para ser capaz de colaborar com o código cliente.\n",
    "\n",
    "3. O __Serviço__ é alguma classe útil (geralmente de terceiros ou código legado). O cliente não pode usar essa classe diretamente porque ela tem uma interface incompatível.\n",
    "\n",
    "4. O __Adaptador__ é uma classe que é capaz de trabalhar tanto com o cliente quanto o serviço: ela implementa a interface do cliente enquanto encobre o objeto do serviço. O adaptador recebe chamadas do cliente através da interface do adaptador e as traduz em chamadas para o objeto encobrido do serviço em um formato que ele possa entender.\n",
    "\n",
    "5. O código cliente não é acoplado à classe concreta do adaptador desde que ele trabalhe com o adaptador através da interface do cliente. Graças a isso, você pode introduzir novos tipos de adaptadores no programa sem quebrar o código cliente existente. Isso pode ser útil quando a interface de uma classe de serviço é mudada ou substituída: você pode apenas criar uma nova classe adaptador sem mudar o código cliente."
   ]
  },
  {
   "cell_type": "code",
   "execution_count": 25,
   "metadata": {},
   "outputs": [],
   "source": [
    "from abc import ABCMeta, abstractmethod"
   ]
  },
  {
   "cell_type": "code",
   "execution_count": 26,
   "metadata": {},
   "outputs": [],
   "source": [
    "class iController(metaclass = ABCMeta):\n",
    "    \"\"\" Client Interface \"\"\"\n",
    "\n",
    "    @abstractmethod\n",
    "    def top(self) -> None: pass\n",
    "\n",
    "    @abstractmethod\n",
    "    def down(self) -> None: pass\n",
    "\n",
    "    @abstractmethod\n",
    "    def left(self) -> None: pass\n",
    "\n",
    "    @abstractmethod\n",
    "    def right(self) -> None: pass"
   ]
  },
  {
   "cell_type": "code",
   "execution_count": 27,
   "metadata": {},
   "outputs": [],
   "source": [
    "class Controller(iController):\n",
    "    \"\"\" Service \"\"\"\n",
    "    \n",
    "    def top(self) -> None: \n",
    "        print(f'{Controller.__name__}: Move to top.')\n",
    "\n",
    "    def down(self) -> None:\n",
    "        print(f'{Controller.__name__}: Move to down.')\n",
    "\n",
    "    def left(self) -> None:\n",
    "        print(f'{Controller.__name__}: Move to left.')\n",
    "\n",
    "    def right(self) -> None:\n",
    "        print(f'{Controller.__name__}: Move to right.')"
   ]
  },
  {
   "cell_type": "code",
   "execution_count": 28,
   "metadata": {},
   "outputs": [],
   "source": [
    "class NewController:\n",
    "    \"\"\" Service \"\"\"\n",
    "    \n",
    "    def move_top(self) -> None: \n",
    "        print(f'{NewController.__name__}: Move to top.')\n",
    "\n",
    "    def move_down(self) -> None:\n",
    "        print(f'{NewController.__name__}: Move to down.')\n",
    "\n",
    "    def move_left(self) -> None:\n",
    "        print(f'{NewController.__name__}: Move to left.')\n",
    "\n",
    "    def move_right(self) -> None:\n",
    "        print(f'{NewController.__name__}: Move to right.')"
   ]
  },
  {
   "cell_type": "code",
   "execution_count": 29,
   "metadata": {},
   "outputs": [],
   "source": [
    "class AdapterControler:\n",
    "    \"\"\" Adapter \"\"\"\n",
    "\n",
    "    def __init__(self, new_controller: NewController) -> None:\n",
    "        self.new_controller = new_controller\n",
    "\n",
    "    def top(self) -> None:\n",
    "        self.new_controller.move_top()\n",
    "\n",
    "    def down(self) -> None:\n",
    "        self.new_controller.move_down()\n",
    "\n",
    "    def left(self) -> None:\n",
    "        self.new_controller.move_left()\n",
    "\n",
    "    def right(self) -> None:\n",
    "        self.new_controller.move_right()\n"
   ]
  },
  {
   "cell_type": "code",
   "execution_count": 30,
   "metadata": {},
   "outputs": [
    {
     "name": "stdout",
     "output_type": "stream",
     "text": [
      "Controller: Move to top.\n",
      "Controller: Move to down.\n",
      "Controller: Move to left.\n",
      "Controller: Move to right.\n",
      "\n",
      "NewController: Move to top.\n",
      "NewController: Move to down.\n",
      "NewController: Move to left.\n",
      "NewController: Move to right.\n"
     ]
    }
   ],
   "source": [
    "if __name__ == \"__main__\":\n",
    "    controller = Controller()\n",
    "    controller.top()\n",
    "    controller.down()\n",
    "    controller.left()\n",
    "    controller.right()\n",
    "\n",
    "    print()\n",
    "\n",
    "    new_controller = NewController()\n",
    "    adapter_controller = AdapterControler(new_controller)\n",
    "    adapter_controller.top()\n",
    "    adapter_controller.down()\n",
    "    adapter_controller.left()\n",
    "    adapter_controller.right()"
   ]
  }
 ],
 "metadata": {
  "kernelspec": {
   "display_name": "Python 3.10.2 64-bit",
   "language": "python",
   "name": "python3"
  },
  "language_info": {
   "codemirror_mode": {
    "name": "ipython",
    "version": 3
   },
   "file_extension": ".py",
   "mimetype": "text/x-python",
   "name": "python",
   "nbconvert_exporter": "python",
   "pygments_lexer": "ipython3",
   "version": "3.10.2"
  },
  "orig_nbformat": 4,
  "vscode": {
   "interpreter": {
    "hash": "d3e10ef16274dd72e574b8fa73b58450b957d8421a2901baded3cca26fcf5dda"
   }
  }
 },
 "nbformat": 4,
 "nbformat_minor": 2
}
