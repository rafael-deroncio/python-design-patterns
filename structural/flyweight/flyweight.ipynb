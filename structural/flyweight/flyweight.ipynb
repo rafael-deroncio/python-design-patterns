{
 "cells": [
  {
   "cell_type": "markdown",
   "metadata": {},
   "source": [
    "![Flyweight](Flyweight.png)\n",
    "\n",
    "0. O padrão Flyweight é somente uma optimização. Antes de aplicá-lo, certifique-se que seu programa tem mesmo um problema de consumo de RAM relacionado a existência de múltiplos objetos similares na memória ao mesmo tempo. Certifique-se que o problema não possa ser resolvido por outra forma relevante.\n",
    "\n",
    "\n",
    "1. A classe Flyweight contém a porção do estado do objeto original que pode ser compartilhada entre múltiplos objetos. O mesmo objeto flyweight pode ser usado em muitos contextos diferentes. O estado armazenado dentro de um flyweight é chamado “intrínseco”. O estado passado pelos métodos flyweight é chamado “extrínseco”.\n",
    "\n",
    "2. A classe Contexto contém o estado extrínseco, único para todos os objetos originais. Quando um contexto é pareado com um dos objetos flyweight, ele representa o estado completo do objeto original.\n",
    "\n",
    "3. O Cliente calcula ou armazena o estado extrínseco dos flyweights. Da perspectiva do cliente, um flyweight é um objeto modelo que pode ser configurado no momento da execução ao passar alguns dados de contexto nos parâmetros de seus métodos.\n",
    "\n",
    "\n",
    "   _Geralmente, o comportamento do objeto original permanece na classe flyweight. Nesse caso, quem chamar o método do flyweight deve também passar os dados apropriados do estado extrínseco nos parâmetros do método. Por outro lado, o comportamento pode ser movido para a classe contexto, que usaria o flyweight meramente como um objeto de dados._\n",
    "\n",
    "4. A Fábrica Flyweight gerencia um conjunto de flyweights existentes. Com a fábrica os clientes não precisam criar flyweights diretamente. Ao invés disso, eles chamam a fábrica, passam os dados de estado intrínseco para o flyweight desejado. A fábrica procura por flyweights já criados e então retorna um existe que coincide o critério de busca ou cria um novo se nada for encontrado."
   ]
  },
  {
   "cell_type": "code",
   "execution_count": 26,
   "metadata": {},
   "outputs": [],
   "source": [
    "from __future__ import annotations\n",
    "from typing import List, Dict"
   ]
  },
  {
   "cell_type": "code",
   "execution_count": 27,
   "metadata": {},
   "outputs": [],
   "source": [
    "class Client:\n",
    "    \"\"\" Context \"\"\"\n",
    "    def __init__(self, name):\n",
    "\n",
    "        # Intrinsic\n",
    "        self.name = name\n",
    "        self._addresses: List = []\n",
    "\n",
    "        # Extrinsic\n",
    "        self.addresses_number: str\n",
    "        self.addresses_details: str\n",
    "\n",
    "    def add_addresses(self, address: Address) -> None:\n",
    "        self._addresses.append(address)\n",
    "\n",
    "    def list_adresses(self) -> None:\n",
    "        for address in self._addresses:\n",
    "            address.show_address(self.addresses_number, self.addresses_details)"
   ]
  },
  {
   "cell_type": "code",
   "execution_count": 28,
   "metadata": {},
   "outputs": [],
   "source": [
    "class Address:\n",
    "    \"\"\" Flyweight \"\"\"\n",
    "\n",
    "    def __init__(self, street: str, neighborhood: str, zip_code: str) -> None:\n",
    "        self._street = street\n",
    "        self._neighborhood = neighborhood\n",
    "        self._zip_code = zip_code\n",
    "\n",
    "    def show_address(self, addresses_number: str, addresses_details: str) -> None:\n",
    "        print(\n",
    "            self._street,\n",
    "            addresses_number,\n",
    "            self._neighborhood,\n",
    "            addresses_details,\n",
    "            self._zip_code\n",
    "        )"
   ]
  },
  {
   "cell_type": "code",
   "execution_count": 29,
   "metadata": {},
   "outputs": [],
   "source": [
    "class AddressFactory:\n",
    "    \"\"\" AddressFactory \"\"\"\n",
    "\n",
    "    _addresses:Dict = {}\n",
    "\n",
    "    def _get_key(self, **kwargs):\n",
    "        return ''.join(kwargs.values())\n",
    "\n",
    "    def get_address(self, **kwargs):\n",
    "        key = self._get_key(**kwargs)\n",
    "    \n",
    "        try:\n",
    "            address_flyweight = self._addresses[key]\n",
    "            print('Usando objeto já criado')\n",
    "        except KeyError:\n",
    "            address_flyweight = Address(**kwargs)\n",
    "            self._addresses[key] = address_flyweight\n",
    "            print('Criando novo objeto')\n",
    "        \n",
    "        return address_flyweight"
   ]
  },
  {
   "cell_type": "code",
   "execution_count": 30,
   "metadata": {},
   "outputs": [
    {
     "name": "stdout",
     "output_type": "stream",
     "text": [
      "Criando novo objeto\n",
      "Usando objeto já criado\n",
      "AV. Paulista 52 Bela Vista 32B 00000-000\n",
      "AV. Paulista 52 Bela Vista 32B 00000-000\n",
      "True\n"
     ]
    }
   ],
   "source": [
    "if __name__ == \"__main__\":\n",
    "    \"\"\" Client \"\"\"\n",
    "    address_factory = AddressFactory()\n",
    "\n",
    "    address1 = address_factory.get_address(street='AV. Paulista', neighborhood='Bela Vista', zip_code='00000-000')\n",
    "    address2 = address_factory.get_address(street='AV. Paulista', neighborhood='Bela Vista', zip_code='00000-000')\n",
    "\n",
    "    client1 = Client('Rafael')\n",
    "    client1.addresses_number = '52'\n",
    "    client1.addresses_details = '32B'\n",
    "    client1.add_addresses(address1)\n",
    "    client1.list_adresses()\n",
    "\n",
    "    client2 = Client('Juliana')\n",
    "    client2.addresses_number = '25'\n",
    "    client2.addresses_details = '23B'\n",
    "    client2.add_addresses(address2)\n",
    "    client1.list_adresses()\n",
    "\n",
    "    print(address1 == address2)\n"
   ]
  }
 ],
 "metadata": {
  "kernelspec": {
   "display_name": "Python 3.10.2 64-bit",
   "language": "python",
   "name": "python3"
  },
  "language_info": {
   "codemirror_mode": {
    "name": "ipython",
    "version": 3
   },
   "file_extension": ".py",
   "mimetype": "text/x-python",
   "name": "python",
   "nbconvert_exporter": "python",
   "pygments_lexer": "ipython3",
   "version": "3.10.2"
  },
  "orig_nbformat": 4,
  "vscode": {
   "interpreter": {
    "hash": "d3e10ef16274dd72e574b8fa73b58450b957d8421a2901baded3cca26fcf5dda"
   }
  }
 },
 "nbformat": 4,
 "nbformat_minor": 2
}
