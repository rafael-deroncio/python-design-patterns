{
 "cells": [
  {
   "cell_type": "markdown",
   "metadata": {},
   "source": [
    "![Proxy](Proxy.png)\n",
    "\n",
    "1. A Interface __Object__ declara a interface do Serviço. O proxy deve seguir essa interface para ser capaz de se disfarçar como um objeto do serviço\n",
    "\n",
    "2. O __RealObject__ é uma classe que fornece alguma lógica de negócio útil.\n",
    "\n",
    "3. A classe __Proxy__ tem um campo de referência que aponta para um objeto do serviço. Após o proxy finalizar seu processamento (por exemplo: inicialização preguiçosa, acesso, acessar controle, colocar em cache, etc.), ele passa o pedido para o objeto do serviço.\n",
    "\n",
    "   Geralmente os proxies gerenciam todo o ciclo de vida dos seus objetos de serviço.\n",
    "\n",
    "4. O __Client__ deve trabalhar tanto com os serviços e proxies através da mesma interface. Dessa forma você pode passar uma proxy para qualquer código que espera um objeto do serviço."
   ]
  },
  {
   "cell_type": "code",
   "execution_count": 16,
   "metadata": {},
   "outputs": [],
   "source": [
    "from __future__ import annotations\n",
    "from typing import List, Dict\n",
    "from abc import ABCMeta, abstractmethod"
   ]
  },
  {
   "cell_type": "code",
   "execution_count": 17,
   "metadata": {},
   "outputs": [],
   "source": [
    "class IAccessData(metaclass = ABCMeta):\n",
    "    \"\"\" Interface: Object \"\"\"\n",
    "    def __init__(self, user, password) -> None: pass\n",
    "    \n",
    "    @abstractmethod\n",
    "    def login(self) -> None: pass\n",
    "\n",
    "    @abstractmethod\n",
    "    def getData(self) -> None: pass\n",
    "\n",
    "    @abstractmethod\n",
    "    def logout(self) -> None: pass"
   ]
  },
  {
   "cell_type": "code",
   "execution_count": 18,
   "metadata": {},
   "outputs": [],
   "source": [
    "class AccessData(IAccessData):\n",
    "    \"\"\" RealObject \"\"\"\n",
    "\n",
    "    def __init__(self, user: str, password: str) -> None:\n",
    "        self.__user = user\n",
    "        self.__password = password\n",
    "        self.__session = False\n",
    "\n",
    "        self.account = {'user': 'deroncio', 'password': '12345'}\n",
    "\n",
    "    @property\n",
    "    def session(self):\n",
    "        return self.__session\n",
    "\n",
    "    def login(self) -> bool:\n",
    "        if self.__user == self.account['user'] and self.__password == self.account['password']:\n",
    "            self.__session = True\n",
    "            return True\n",
    "        print('Unauthorized access! Please your credentials.')\n",
    "        return False\n",
    "    \n",
    "    def getData(self) -> List[Dict]:\n",
    "        if self.__session:\n",
    "            return [{'success': True, 'addresses': {'logradouro':'Av. Brasil', 'num':1010}}]\n",
    "        print('Please login!')\n",
    "        return [{'success': False}]\n",
    "    \n",
    "    def logout(self) -> str:\n",
    "        if self.__session:\n",
    "            self.__session = False\n",
    "            print('[success] logout successfully')\n",
    "        else:\n",
    "            print('[fail] Please login!')\n",
    "        return self.__session"
   ]
  },
  {
   "cell_type": "code",
   "execution_count": 19,
   "metadata": {},
   "outputs": [],
   "source": [
    "class ProxyAccessData(IAccessData):\n",
    "    \"\"\" RealObject \"\"\"\n",
    "\n",
    "    def __init__(self, user: str, password: str) -> None:\n",
    "        self.__user = user\n",
    "        self.__password = password\n",
    "\n",
    "        self.__access: AccessData\n",
    "        self.__cache: List[Dict]\n",
    "\n",
    "        if not hasattr(self, '__access'):\n",
    "            self.__access = AccessData(self.__user, self.__password)\n",
    "\n",
    "    def login(self) -> None:\n",
    "        if not hasattr(self, '__session'):\n",
    "            self.__access.login()\n",
    "\n",
    "    def getData(self) -> None:\n",
    "        if not hasattr(self, '__cache'):\n",
    "            self.__cache = self.__access.getData()\n",
    "            return self.__cache\n",
    "\n",
    "    def logout(self) -> None:\n",
    "        self.__access.logout()"
   ]
  },
  {
   "cell_type": "code",
   "execution_count": 21,
   "metadata": {},
   "outputs": [
    {
     "name": "stdout",
     "output_type": "stream",
     "text": [
      "[{'success': True, 'addresses': {'logradouro': 'Av. Brasil', 'num': 1010}}]\n"
     ]
    }
   ],
   "source": [
    "if __name__ == \"__main__\":\n",
    "\n",
    "    user_proxy = ProxyAccessData(user='deroncio', password='12345')\n",
    "\n",
    "    if user_proxy.login():\n",
    "        data = user_proxy.getData()\n",
    "\n",
    "        print(data)"
   ]
  }
 ],
 "metadata": {
  "kernelspec": {
   "display_name": "Python 3.10.2 64-bit",
   "language": "python",
   "name": "python3"
  },
  "language_info": {
   "codemirror_mode": {
    "name": "ipython",
    "version": 3
   },
   "file_extension": ".py",
   "mimetype": "text/x-python",
   "name": "python",
   "nbconvert_exporter": "python",
   "pygments_lexer": "ipython3",
   "version": "3.10.2"
  },
  "orig_nbformat": 4,
  "vscode": {
   "interpreter": {
    "hash": "d3e10ef16274dd72e574b8fa73b58450b957d8421a2901baded3cca26fcf5dda"
   }
  }
 },
 "nbformat": 4,
 "nbformat_minor": 2
}
