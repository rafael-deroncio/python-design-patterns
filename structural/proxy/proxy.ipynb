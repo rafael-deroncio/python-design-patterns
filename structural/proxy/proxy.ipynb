{
 "cells": [
  {
   "cell_type": "markdown",
   "metadata": {},
   "source": [
    "![Proxy](Proxy.png)\n",
    "\n",
    "1. A Interface __Object__ declara a interface do Serviço. O proxy deve seguir essa interface para ser capaz de se disfarçar como um objeto do serviço\n",
    "\n",
    "2. O __RealObject__ é uma classe que fornece alguma lógica de negócio útil.\n",
    "\n",
    "3. A classe __Proxy__ tem um campo de referência que aponta para um objeto do serviço. Após o proxy finalizar seu processamento (por exemplo: inicialização preguiçosa, acesso, acessar controle, colocar em cache, etc.), ele passa o pedido para o objeto do serviço.\n",
    "\n",
    "   Geralmente os proxies gerenciam todo o ciclo de vida dos seus objetos de serviço.\n",
    "\n",
    "4. O __Client__ deve trabalhar tanto com os serviços e proxies através da mesma interface. Dessa forma você pode passar uma proxy para qualquer código que espera um objeto do serviço."
   ]
  },
  {
   "cell_type": "code",
   "execution_count": null,
   "metadata": {},
   "outputs": [],
   "source": []
  }
 ],
 "metadata": {
  "language_info": {
   "name": "python"
  },
  "orig_nbformat": 4
 },
 "nbformat": 4,
 "nbformat_minor": 2
}
