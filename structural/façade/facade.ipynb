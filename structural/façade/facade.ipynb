{
 "cells": [
  {
   "cell_type": "markdown",
   "metadata": {},
   "source": [
    "![Facade](Facade.png)\n",
    "\n",
    "1. A __Fachada__ fornece um acesso conveniente para uma parte particular da funcionalidade do subsistema. Ela sabe onde direcionar o pedido do cliente e como operar todas as partes móveis.\n",
    "\n",
    "2. Uma classe __Fachada Adicional__ pode ser criada para prevenir a poluição de uma única fachada com funcionalidades não relevantes que podem torná-lo mais uma estrutura complexa. Fachadas adicionais podem ser usadas tanto por clientes como por outras fachadas.\n",
    "\n",
    "3. O __Subsistema Complexo__ consiste em dúzias de objetos variados. Para tornar todos eles em algo que signifique alguma coisa, você tem que mergulhar fundo nos detalhes de implementação do subsistema, tais como objetos de inicialização na ordem correta e suprí-los com dados no formato correto.\n",
    "\n",
    "   As classes do subsistema não estão cientes da existência da fachada. Elas operam dentro do sistema e trabalham entre si diretamente.\n",
    "\n",
    "4. O __Cliente__ usa a fachada ao invés de chamar os objetos do subsistema diretamente."
   ]
  },
  {
   "cell_type": "code",
   "execution_count": 1,
   "metadata": {},
   "outputs": [],
   "source": [
    "class EventManager:\n",
    "    \"\"\" Facade \"\"\"\n",
    "    \n",
    "    def __init__(self):\n",
    "        print('Event Manager :: Let me talk to the folks\\n')\n",
    "\n",
    "    def arrange(self):\n",
    "        self.hotelier = Hotelier()\n",
    "        self.hotelier.bookHotel()\n",
    "\n",
    "        self.florist = Florist()\n",
    "        self.florist.setFlowerRequirements()\n",
    "\n",
    "        self.caterer = Caterer()\n",
    "        self.caterer.setCuisine()\n",
    "\n",
    "        self.musican = Musican()\n",
    "        self.musican.setMusicType()"
   ]
  },
  {
   "cell_type": "code",
   "execution_count": 2,
   "metadata": {},
   "outputs": [],
   "source": [
    "class Hotelier:\n",
    "    \"\"\" Subsystem \"\"\"\n",
    "    def __init__(self):\n",
    "        print('Arranging the Hotel for Marriage? --')\n",
    "    \n",
    "    def __isAvailable(self):\n",
    "        print('Is the Hotel free for the event on given day?')\n",
    "        return True\n",
    "\n",
    "    def bookHotel(self):\n",
    "        if self.__isAvailable():\n",
    "            print('Registred the Booking\\n\\n')\n",
    "\n",
    "class Florist:\n",
    "    \"\"\" Subsystem \"\"\"\n",
    "    def __init__(self):\n",
    "        print('Flower Decorations for the Event? --')\n",
    "\n",
    "    def setFlowerRequirements(self):\n",
    "        print('Carntions, Roses and Lilies wiuld be used for Decorations\\n\\n')\n",
    "\n",
    "class Caterer:\n",
    "    \"\"\" Subsystem \"\"\"\n",
    "    def __init__(self):\n",
    "        print('Food Arrangements for the Event?')\n",
    "\n",
    "    def setCuisine(self):\n",
    "        print('Chinese and Continental Cuisine to be served\\n\\n')\n",
    "\n",
    "class Musican:\n",
    "    \"\"\" Subsystem \"\"\"\n",
    "    def __init__(self):\n",
    "        print('Musical Arrangements for Marriage? --')\n",
    "\n",
    "    def setMusicType(self):\n",
    "        print('Jazz and Classical will be played\\n\\n')"
   ]
  },
  {
   "cell_type": "code",
   "execution_count": 3,
   "metadata": {},
   "outputs": [],
   "source": [
    "class Client:\n",
    "    \"\"\" Client \"\"\"\n",
    "\n",
    "    def __init__(self):\n",
    "        print('You:: Whoa! Marriage Arrangements?!')\n",
    "    \n",
    "    def askEventManager(self):\n",
    "        print('You:: Let`s Contact the Event Manager\\n\\n')\n",
    "        event_manager = EventManager()\n",
    "        event_manager.arrange()\n",
    "\n",
    "    def __del__(self):\n",
    "        print('You:: Thanks to Event Manager, all preparations done! Phew!!')"
   ]
  },
  {
   "cell_type": "code",
   "execution_count": 4,
   "metadata": {},
   "outputs": [
    {
     "name": "stdout",
     "output_type": "stream",
     "text": [
      "You:: Whoa! Marriage Arrangements?!\n",
      "You:: Let`s Contact the Event Manager\n",
      "\n",
      "\n",
      "Event Manager :: Let me talk to the folks\n",
      "\n",
      "Arranging the Hotel for Marriage? --\n",
      "Is the Hotel free for the event on given day?\n",
      "Registred the Booking\n",
      "\n",
      "\n",
      "Flower Decorations for the Event? --\n",
      "Carntions, Roses and Lilies wiuld be used for Decorations\n",
      "\n",
      "\n",
      "Food Arrangements for the Event?\n",
      "Chinese and Continental Cuisine to be served\n",
      "\n",
      "\n",
      "Musical Arrangements for Marriage? --\n",
      "Jazz and Classical will be played\n",
      "\n",
      "\n"
     ]
    }
   ],
   "source": [
    "you = Client()\n",
    "you.askEventManager()"
   ]
  }
 ],
 "metadata": {
  "kernelspec": {
   "display_name": "Python 3.10.2 64-bit",
   "language": "python",
   "name": "python3"
  },
  "language_info": {
   "codemirror_mode": {
    "name": "ipython",
    "version": 3
   },
   "file_extension": ".py",
   "mimetype": "text/x-python",
   "name": "python",
   "nbconvert_exporter": "python",
   "pygments_lexer": "ipython3",
   "version": "3.10.2"
  },
  "orig_nbformat": 4,
  "vscode": {
   "interpreter": {
    "hash": "d3e10ef16274dd72e574b8fa73b58450b957d8421a2901baded3cca26fcf5dda"
   }
  }
 },
 "nbformat": 4,
 "nbformat_minor": 2
}
