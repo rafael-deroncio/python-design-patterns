{
 "cells": [
  {
   "cell_type": "markdown",
   "metadata": {},
   "source": [
    "![Decorator](Decorator.png)\n",
    "\n",
    "1. O __Component__ declara a interface comum tanto para os envoltórios como para os objetos envolvidos.\n",
    "\n",
    "2. O __ConcreteComponent__ é uma classe de objetos sendo envolvidos. Ela define o comportamento básico, que pode ser alterado por decoradores.\n",
    "\n",
    "\n",
    "3. A classe __Decorator__ tem um campo para referenciar um objeto envolvido. O tipo do campo deve ser declarado assim como a interface do componente para que possa conter ambos os componentes concretos e os decoradores. O decorador base delega todas as operações para o objeto envolvido.\n",
    "\n",
    "4. Os __ConcreteDecorators(_n_)__  definem os comportamentos adicionais que podem ser adicionados aos componentes dinamicamente. Os decoradores concretos sobrescrevem métodos do decorador base e executam seus comportamentos tanto antes como depois de chamarem o método pai.\n",
    "\n",
    "\n",
    "\n",
    "O __Client__ pode envolver componentes em múltiplas camadas de decoradors, desde que trabalhe com todos os objetos através da interface do componente."
   ]
  },
  {
   "cell_type": "code",
   "execution_count": 9,
   "metadata": {},
   "outputs": [],
   "source": [
    "from __future__ import annotations\n",
    "from abc import ABCMeta, abstractmethod\n",
    "from dataclasses import dataclass\n",
    "from typing import List\n",
    "from copy import deepcopy"
   ]
  },
  {
   "cell_type": "code",
   "execution_count": 10,
   "metadata": {},
   "outputs": [],
   "source": [
    "@dataclass\n",
    "class Ingredient:\n",
    "    price: float\n",
    "\n",
    "@dataclass\n",
    "class Bread(Ingredient):\n",
    "    price: float = 0.99\n",
    "\n",
    "@dataclass\n",
    "class Sausage(Ingredient):\n",
    "    price: float = 3.99\n",
    "\n",
    "@dataclass\n",
    "class Egg(Ingredient):\n",
    "    price: float = 1.99\n",
    "\n",
    "@dataclass\n",
    "class Cheese(Ingredient):\n",
    "    price: float = 3.99\n",
    "\n",
    "@dataclass\n",
    "class MashedPotatoes(Ingredient):\n",
    "    price: float = 2.99\n",
    "\n",
    "@dataclass\n",
    "class PotatoesStiks(Ingredient):\n",
    "    price: float = 0.99\n",
    "\n",
    "@dataclass\n",
    "class Bacon(Ingredient):\n",
    "    price: float = 4.99"
   ]
  },
  {
   "cell_type": "code",
   "execution_count": 11,
   "metadata": {},
   "outputs": [],
   "source": [
    "class Hotdog:\n",
    "    \"\"\" Component \"\"\"\n",
    "\n",
    "    _name: str\n",
    "    _ingredients: List[Ingredient]\n",
    "    _price: float\n",
    "\n",
    "    @property\n",
    "    def name(self) -> str:\n",
    "        return self._name\n",
    "\n",
    "    @property\n",
    "    def ingredients(self) -> List[Ingredient]:\n",
    "        return self._ingredients\n",
    "\n",
    "    @property\n",
    "    def price(self) -> float: \n",
    "        ingredients_price = [ingredient.price for ingredient in self._ingredients]\n",
    "        ingredients_price = round(sum(ingredients_price), 2)\n",
    "        return ingredients_price\n",
    "\n",
    "    def __repr__(self) -> str:\n",
    "        return f'{self.name} ${self.price}: {self.ingredients}'"
   ]
  },
  {
   "cell_type": "code",
   "execution_count": 12,
   "metadata": {},
   "outputs": [],
   "source": [
    "class SimpleHotdog(Hotdog):\n",
    "    \"\"\" ConcreteComponent1\"\"\"\n",
    "    def __init__(self):\n",
    "        self._name = 'Simple Hotdog'\n",
    "        self._ingredients: List[Ingredient] = [Bread(), Sausage(), PotatoesStiks()]\n",
    "\n",
    "\n",
    "class SpecialHotdog(Hotdog):\n",
    "    \"\"\" ConcreteComponent2\"\"\"\n",
    "    def __init__(self):\n",
    "        self._name = 'Special Hotdog'\n",
    "        self._ingredients: List[Ingredient] = [Bread(), Sausage(), PotatoesStiks(), \n",
    "            Bacon(), Cheese(), MashedPotatoes(), PotatoesStiks()\n",
    "            ]"
   ]
  },
  {
   "cell_type": "code",
   "execution_count": 15,
   "metadata": {},
   "outputs": [],
   "source": [
    "class HotdogDecorator(Hotdog):\n",
    "    \"\"\" Decorator \"\"\"\n",
    "\n",
    "    def __init__(self, hotdog: Hotdog, ingredient: Ingredient) -> None:\n",
    "        self._hotdog = hotdog\n",
    "        self._ingredient = ingredient\n",
    "\n",
    "        self._ingredients = deepcopy(self._hotdog.ingredients)\n",
    "        self._ingredients.append(self._ingredient)\n",
    "\n",
    "    @property\n",
    "    def name(self) -> str:\n",
    "        return f'{self._hotdog.name} +{self._ingredient.__class__.__name__}'"
   ]
  },
  {
   "cell_type": "code",
   "execution_count": 17,
   "metadata": {},
   "outputs": [
    {
     "name": "stdout",
     "output_type": "stream",
     "text": [
      "Simple Hotdog $5.97: [Bread(price=0.99), Sausage(price=3.99), PotatoesStiks(price=0.99)] \n",
      "\n",
      "Special Hotdog $18.93: [Bread(price=0.99), Sausage(price=3.99), PotatoesStiks(price=0.99), Bacon(price=4.99), Cheese(price=3.99), MashedPotatoes(price=2.99), PotatoesStiks(price=0.99)] \n",
      "\n",
      "Simple Hotdog +Bacon $10.96: [Bread(price=0.99), Sausage(price=3.99), PotatoesStiks(price=0.99), Bacon(price=4.99)] \n",
      "\n"
     ]
    }
   ],
   "source": [
    "if __name__ == \"__main__\":\n",
    "\n",
    "    # Hotdog Simples\n",
    "    simple_hotdog = SimpleHotdog()\n",
    "    print(simple_hotdog, '\\n')\n",
    "\n",
    "    # Hotdog Special\n",
    "    special_hotdog = SpecialHotdog()\n",
    "    print(special_hotdog, '\\n')\n",
    "\n",
    "    # Hotdog Decorator\n",
    "    bacon_special_hotdog = HotdogDecorator(simple_hotdog, Bacon())\n",
    "    print(bacon_special_hotdog, '\\n')"
   ]
  }
 ],
 "metadata": {
  "kernelspec": {
   "display_name": "Python 3.10.2 64-bit",
   "language": "python",
   "name": "python3"
  },
  "language_info": {
   "codemirror_mode": {
    "name": "ipython",
    "version": 3
   },
   "file_extension": ".py",
   "mimetype": "text/x-python",
   "name": "python",
   "nbconvert_exporter": "python",
   "pygments_lexer": "ipython3",
   "version": "3.10.2"
  },
  "orig_nbformat": 4,
  "vscode": {
   "interpreter": {
    "hash": "d3e10ef16274dd72e574b8fa73b58450b957d8421a2901baded3cca26fcf5dda"
   }
  }
 },
 "nbformat": 4,
 "nbformat_minor": 2
}
