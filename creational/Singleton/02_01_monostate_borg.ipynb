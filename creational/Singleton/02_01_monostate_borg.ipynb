{
 "cells": [
  {
   "cell_type": "markdown",
   "metadata": {},
   "source": [
    "# Monostate (Borg)\n",
    "Proposto por Alex Martelli, o padrão Monostate também conhecido como Borg é uma variação do padrão Singleton. \n",
    "\n",
    "Alex sugere que os desenvolvedores devem se preocupar com o estado e o comportamento e não com a identidade do objeto. \n",
    "\n",
    "Este padrão permite criar mais de uma instância (objeto) de uma classe porém todos os objetos terão o mesmo estado, se comportando assim como um Singleton.\n",
    "\n",
    "## Quando usar?\n",
    "Quando precisamos criar apenas um objeto de uma determinada classe. Um exemplo seria quando precisamos de apenas um objeto para conexão com o banco de dados."
   ]
  },
  {
   "cell_type": "code",
   "execution_count": 14,
   "metadata": {},
   "outputs": [],
   "source": [
    "class StringReprMixin:\n",
    "    \n",
    "    def __str__(self):\n",
    "        params = ', '.join([f'{k}={v}' for k, v in self.__dict__.items()])\n",
    "        return f'{self.__class__.__name__}({params})'\n",
    "    \n",
    "    def __repr__(self):\n",
    "        return self.__str__()"
   ]
  },
  {
   "cell_type": "code",
   "execution_count": 26,
   "metadata": {},
   "outputs": [],
   "source": [
    "# Monostate com Mixin\n",
    "class MonostateSimples(StringReprMixin):\n",
    "    \n",
    "    _state: dict = {\n",
    "        'x':10,\n",
    "        'y':20}\n",
    "    \n",
    "    def __init__(self):\n",
    "        self.__dict__ = self._state"
   ]
  },
  {
   "cell_type": "code",
   "execution_count": 27,
   "metadata": {},
   "outputs": [],
   "source": [
    "m1 = MonostateSimples()\n",
    "m2 = MonostateSimples()"
   ]
  },
  {
   "cell_type": "code",
   "execution_count": 28,
   "metadata": {},
   "outputs": [
    {
     "name": "stdout",
     "output_type": "stream",
     "text": [
      "MonostateSimples(x=10, y=20)\n",
      "MonostateSimples(x=10, y=20)\n"
     ]
    }
   ],
   "source": [
    "print(m1)\n",
    "print(m2)"
   ]
  },
  {
   "cell_type": "code",
   "execution_count": 30,
   "metadata": {},
   "outputs": [],
   "source": [
    "m1.nome = 'Rafael'\n",
    "m2.sobrenome = 'Deroncio'"
   ]
  },
  {
   "cell_type": "code",
   "execution_count": 31,
   "metadata": {},
   "outputs": [
    {
     "name": "stdout",
     "output_type": "stream",
     "text": [
      "MonostateSimples(x=10, y=20, nome=Rafael, sobrenome=Deroncio)\n",
      "MonostateSimples(x=10, y=20, nome=Rafael, sobrenome=Deroncio)\n"
     ]
    }
   ],
   "source": [
    "print(m1)\n",
    "print(m2)"
   ]
  },
  {
   "cell_type": "code",
   "execution_count": 32,
   "metadata": {},
   "outputs": [
    {
     "data": {
      "text/plain": [
       "False"
      ]
     },
     "execution_count": 32,
     "metadata": {},
     "output_type": "execute_result"
    }
   ],
   "source": [
    "m1 == m2"
   ]
  }
 ],
 "metadata": {
  "interpreter": {
   "hash": "9efce205f64ad363cd9f14615485aca38ee4ef0915866e318aa83c8d0c93f6fc"
  },
  "kernelspec": {
   "display_name": "Python 3.10.2 64-bit",
   "language": "python",
   "name": "python3"
  },
  "language_info": {
   "codemirror_mode": {
    "name": "ipython",
    "version": 3
   },
   "file_extension": ".py",
   "mimetype": "text/x-python",
   "name": "python",
   "nbconvert_exporter": "python",
   "pygments_lexer": "ipython3",
   "version": "3.10.2"
  },
  "orig_nbformat": 4
 },
 "nbformat": 4,
 "nbformat_minor": 2
}
