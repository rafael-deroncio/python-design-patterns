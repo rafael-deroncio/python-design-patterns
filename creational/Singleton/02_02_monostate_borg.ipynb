{
 "cells": [
  {
   "cell_type": "markdown",
   "metadata": {},
   "source": [
    "# Monostate (Borg)\n",
    "Proposto por Alex Martelli, o padrão Monostate também conhecido como Borg é uma variação do padrão Singleton. Alex sugere que os desenvolvedores devem se preocupar com o estado e o comportamento e não com a identidade do objeto. Este padrão permite criar mais de uma instância (objeto) de uma classe porém todos os objetos terão o mesmo estado, se comportando assim como um Singleton.\n",
    "\n",
    "## Quando usar?\n",
    "Quando precisamos criar apenas um objeto de uma determinada classe. Um exemplo seria quando precisamos de apenas um objeto para conexão com o banco de dados."
   ]
  },
  {
   "cell_type": "code",
   "execution_count": 1,
   "metadata": {},
   "outputs": [],
   "source": [
    "class StringReprMixin:\n",
    "    \n",
    "    def __str__(self):\n",
    "        params = ', '.join([f'{k}={v}' for k, v in self.__dict__.items()])\n",
    "        return f'{self.__class__.__name__}({params})'\n",
    "    \n",
    "    def __repr__(self):\n",
    "        return self.__str__()"
   ]
  },
  {
   "cell_type": "code",
   "execution_count": 6,
   "metadata": {},
   "outputs": [],
   "source": [
    "class Monostate(StringReprMixin):\n",
    "    \n",
    "    _state: dict = {}\n",
    "    \n",
    "    def __new__(cls, *args, **kwargs):\n",
    "        obj = super().__new__(cls)\n",
    "        obj.__dict__ = cls._state\n",
    "        return obj\n",
    "    \n",
    "    def __init__(self):\n",
    "        print('Eu sou o __init__.')\n",
    "        self.__dict__ = self._state"
   ]
  },
  {
   "cell_type": "code",
   "execution_count": 7,
   "metadata": {},
   "outputs": [
    {
     "name": "stdout",
     "output_type": "stream",
     "text": [
      "Eu sou o __init__.\n",
      "Eu sou o __init__.\n"
     ]
    }
   ],
   "source": [
    "m1 = Monostate()\n",
    "m2 = Monostate()"
   ]
  },
  {
   "cell_type": "code",
   "execution_count": 5,
   "metadata": {},
   "outputs": [
    {
     "name": "stdout",
     "output_type": "stream",
     "text": [
      "Monostate()\n",
      "Monostate()\n"
     ]
    }
   ],
   "source": [
    "print(m1)\n",
    "print(m2)"
   ]
  }
 ],
 "metadata": {
  "interpreter": {
   "hash": "9efce205f64ad363cd9f14615485aca38ee4ef0915866e318aa83c8d0c93f6fc"
  },
  "kernelspec": {
   "display_name": "Python 3.10.2 64-bit",
   "language": "python",
   "name": "python3"
  },
  "language_info": {
   "codemirror_mode": {
    "name": "ipython",
    "version": 3
   },
   "file_extension": ".py",
   "mimetype": "text/x-python",
   "name": "python",
   "nbconvert_exporter": "python",
   "pygments_lexer": "ipython3",
   "version": "3.10.2"
  },
  "orig_nbformat": 4
 },
 "nbformat": 4,
 "nbformat_minor": 2
}
