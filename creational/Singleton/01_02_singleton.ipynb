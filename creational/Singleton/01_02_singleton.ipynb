{
 "cells": [
  {
   "cell_type": "markdown",
   "metadata": {},
   "source": [
    "# Singleton\n",
    "- Metodo de implementacao com @decorador.\n",
    "-  - Armazena as instancias em uma variavel do decoradot.\n",
    "-  - retorna a mesma instancia quando a classe decorada chamar o `__new__`."
   ]
  },
  {
   "cell_type": "code",
   "execution_count": 30,
   "metadata": {},
   "outputs": [],
   "source": [
    "# Criando decorador singleton\n",
    "def singleton(the_class):\n",
    "    \n",
    "    # Armazenando instancias:\n",
    "    instances = {}\n",
    "    \n",
    "    def getClass(*args, **kwargs):\n",
    "        \n",
    "        # Check se a instancia ja foi feita em outro objeto\n",
    "        if the_class not in instances:\n",
    "            instances[the_class] = the_class(*args, **kwargs)\n",
    "\n",
    "        return instances[the_class]\n",
    "\n",
    "    return getClass"
   ]
  },
  {
   "cell_type": "code",
   "execution_count": 29,
   "metadata": {},
   "outputs": [
    {
     "name": "stdout",
     "output_type": "stream",
     "text": [
      "Eu sou o __init__\n",
      "True\n"
     ]
    }
   ],
   "source": [
    "# RESOLVENDO o problema: O __init__ nao sera mais chamado em todas as instancias\n",
    "\n",
    "@singleton\n",
    "class Singleton:\n",
    "    \n",
    "    def __init__(self):\n",
    "        print('Eu sou o __init__')\n",
    "\n",
    "\n",
    "if __name__ == '__main__':\n",
    "    \n",
    "    teste_singleton1 = Singleton()\n",
    "    teste_singleton2 = Singleton()\n",
    "    \n",
    "    print(teste_singleton1 == teste_singleton2)"
   ]
  }
 ],
 "metadata": {
  "interpreter": {
   "hash": "9efce205f64ad363cd9f14615485aca38ee4ef0915866e318aa83c8d0c93f6fc"
  },
  "kernelspec": {
   "display_name": "Python 3.10.2 64-bit",
   "language": "python",
   "name": "python3"
  },
  "language_info": {
   "codemirror_mode": {
    "name": "ipython",
    "version": 3
   },
   "file_extension": ".py",
   "mimetype": "text/x-python",
   "name": "python",
   "nbconvert_exporter": "python",
   "pygments_lexer": "ipython3",
   "version": "3.10.2"
  },
  "orig_nbformat": 4
 },
 "nbformat": 4,
 "nbformat_minor": 2
}
