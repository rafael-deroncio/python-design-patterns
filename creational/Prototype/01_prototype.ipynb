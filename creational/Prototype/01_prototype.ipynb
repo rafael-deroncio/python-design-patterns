{
 "cells": [
  {
   "cell_type": "markdown",
   "metadata": {},
   "source": [
    "![Prototype Diagrama](Prototype.png)"
   ]
  },
  {
   "cell_type": "code",
   "execution_count": 35,
   "metadata": {},
   "outputs": [],
   "source": [
    "from __future__ import annotations\n",
    "from typing import List\n",
    "from copy import deepcopy\n",
    "from abc import ABC, abstractmethod"
   ]
  },
  {
   "cell_type": "code",
   "execution_count": 36,
   "metadata": {},
   "outputs": [],
   "source": [
    "class StringReprMixin:\n",
    "    \n",
    "    def __str__(self):\n",
    "        params = ', '.join([f'{k}={v}' for k, v in self.__dict__.items()])\n",
    "        return f'{self.__class__.__name__}({params})'\n",
    "\n",
    "    def __repr__(self):\n",
    "        return self.__str__()"
   ]
  },
  {
   "cell_type": "code",
   "execution_count": 37,
   "metadata": {},
   "outputs": [],
   "source": [
    "class IPerson(ABC):\n",
    "    \n",
    "    @abstractmethod\n",
    "    def clone() -> None: pass"
   ]
  },
  {
   "cell_type": "code",
   "execution_count": 38,
   "metadata": {},
   "outputs": [],
   "source": [
    "class Person(IPerson, StringReprMixin):\n",
    "    \n",
    "    def __init__(self, firstname, lastname, age):\n",
    "        self.__firstname = firstname\n",
    "        self.__lastname = lastname\n",
    "        self.__age = age\n",
    "    \n",
    "    @property\n",
    "    def firstname(self):\n",
    "        return self.__firstname\n",
    "\n",
    "    @firstname.setter\n",
    "    def firstname(self, firstname):\n",
    "        self.__firstname = firstname\n",
    "\n",
    "    @property\n",
    "    def lastname(self):\n",
    "        return self.__lastname\n",
    "    \n",
    "    @lastname.setter\n",
    "    def lastname(self, lastname):\n",
    "        self.__lastname = lastname\n",
    "    \n",
    "    @property\n",
    "    def age(self):\n",
    "        return self.__age\n",
    "\n",
    "    @age.setter\n",
    "    def age(self, age):\n",
    "        self.__age = age\n",
    "    \n",
    "    def clone(self) -> Person:\n",
    "        return deepcopy(self)"
   ]
  },
  {
   "cell_type": "code",
   "execution_count": 39,
   "metadata": {},
   "outputs": [],
   "source": [
    "pessoa1 = Person('Rafael', 'Deroncio', 28)\n"
   ]
  },
  {
   "cell_type": "code",
   "execution_count": 40,
   "metadata": {},
   "outputs": [],
   "source": [
    "pessoa2 = pessoa1.clone()\n",
    "\n",
    "pessoa2.firstname = 'Juliana'\n",
    "pessoa2.lastname = 'Paula'\n",
    "pessoa2.age = 28\n"
   ]
  },
  {
   "cell_type": "code",
   "execution_count": 41,
   "metadata": {},
   "outputs": [
    {
     "name": "stdout",
     "output_type": "stream",
     "text": [
      "Person(_Person__firstname=Rafael, _Person__lastname=Deroncio, _Person__age=28)\n",
      "Person(_Person__firstname=Juliana, _Person__lastname=Paula, _Person__age=28)\n"
     ]
    }
   ],
   "source": [
    "print(pessoa1)\n",
    "print(pessoa2)"
   ]
  },
  {
   "cell_type": "code",
   "execution_count": 42,
   "metadata": {},
   "outputs": [
    {
     "name": "stdout",
     "output_type": "stream",
     "text": [
      "False\n"
     ]
    }
   ],
   "source": [
    "print(id(pessoa1) == id(pessoa2))"
   ]
  },
  {
   "cell_type": "code",
   "execution_count": null,
   "metadata": {},
   "outputs": [],
   "source": []
  }
 ],
 "metadata": {
  "interpreter": {
   "hash": "9efce205f64ad363cd9f14615485aca38ee4ef0915866e318aa83c8d0c93f6fc"
  },
  "kernelspec": {
   "display_name": "Python 3.10.2 64-bit",
   "language": "python",
   "name": "python3"
  },
  "language_info": {
   "codemirror_mode": {
    "name": "ipython",
    "version": 3
   },
   "file_extension": ".py",
   "mimetype": "text/x-python",
   "name": "python",
   "nbconvert_exporter": "python",
   "pygments_lexer": "ipython3",
   "version": "3.10.2"
  },
  "orig_nbformat": 4
 },
 "nbformat": 4,
 "nbformat_minor": 2
}
