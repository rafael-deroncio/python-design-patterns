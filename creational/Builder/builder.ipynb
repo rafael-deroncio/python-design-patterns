{
 "cells": [
  {
   "cell_type": "markdown",
   "metadata": {},
   "source": [
    "![Builder](Builder.png)\n",
    "\n",
    "1. A interface __Builder__ declara etapas de construção do produto que são comuns a todos os tipos de builders.\n",
    "\n",
    "2. __Builders Concretos__ provém diferentes implementações das etapas de construção. Builders concretos podem produzir produtos que não seguem a interface comum.\n",
    "\n",
    "3. __Produtos__ são os objetos resultantes. Produtos construídos por diferentes builders não precisam pertencer a mesma interface ou hierarquia da classe.\n",
    "\n",
    "4. A classe __Diretor__ define a ordem na qual as etapas de construção são chamadas, então você pode criar e reutilizar configurações específicas de produtos.\n",
    "\n",
    "5. O __Cliente__ deve associar um dos objetos builders com o diretor. Usualmente isso é feito apenas uma vez, através de parâmetros do construtor do diretor. O diretor então usa aquele objeto builder para todas as futuras construções. Contudo, há uma abordagem alternativa para quando o cliente passa o objeto builder ao método de produção do diretor. Nesse caso, você pode usar um builder diferente a cada vez que você produzir alguma coisa com o diretor."
   ]
  },
  {
   "cell_type": "code",
   "execution_count": 75,
   "metadata": {},
   "outputs": [],
   "source": [
    "from abc import ABC, abstractmethod\n",
    "\n",
    "# Mixin\n",
    "class Mixin:\n",
    "    \n",
    "    def __str__(self):\n",
    "        params = ', '.join([f'{k}={v}' for k, v in self.__dict__.items()])\n",
    "        return f'{self.__class__.__name__}({params})'\n",
    "\n",
    "    def __repr__(self):\n",
    "        return self.__str__"
   ]
  },
  {
   "cell_type": "code",
   "execution_count": 76,
   "metadata": {},
   "outputs": [],
   "source": [
    "# Product\n",
    "class Car(Mixin):\n",
    "    \n",
    "    def __init__(self):\n",
    "        self.engine = None\n",
    "        self.seats = None\n",
    "        self.gps = None\n",
    "        self.trip_computer = None"
   ]
  },
  {
   "cell_type": "code",
   "execution_count": 77,
   "metadata": {},
   "outputs": [],
   "source": [
    "# Interface\n",
    "class ICarBuilder(ABC):\n",
    "     \n",
    "     @property\n",
    "     @abstractmethod\n",
    "     def result(self) -> None: pass\n",
    "     \n",
    "     @abstractmethod\n",
    "     def reset(self) -> None: pass\n",
    "\n",
    "     @abstractmethod\n",
    "     def setEngine(self) -> None: pass\n",
    "\n",
    "     @abstractmethod\n",
    "     def setSeats(self) -> None: pass\n",
    "\n",
    "     @abstractmethod\n",
    "     def setGPS(self) -> None: pass\n",
    "     \n",
    "     @abstractmethod\n",
    "     def setTripComputer(self) -> None: pass"
   ]
  },
  {
   "cell_type": "code",
   "execution_count": 78,
   "metadata": {},
   "outputs": [],
   "source": [
    "# Concrete Builder\n",
    "class CarBuilder(ICarBuilder):\n",
    "    \n",
    "    def __init__(self):\n",
    "        self.reset()\n",
    "\n",
    "    def reset(self):\n",
    "        self._result = Car()\n",
    "        \n",
    "    @property\n",
    "    def result(self):\n",
    "        return_obj = self._result\n",
    "        self.reset()\n",
    "        return return_obj\n",
    "    \n",
    "    def setEngine(self, engine):\n",
    "        self._result.engine = engine\n",
    "        return self # Method Chaining\n",
    "\n",
    "    def setSeats(self, seats):\n",
    "        self._result.seats = seats\n",
    "        return self # Method Chaining \n",
    "\n",
    "    def setGPS(self, gps):\n",
    "        self._result.gps = gps\n",
    "        return self # Method Chaining \n",
    "    \n",
    "    def setTripComputer(self, trip_computer):\n",
    "        self._result.trip_computer = trip_computer\n",
    "        return self # Method Chaining "
   ]
  },
  {
   "cell_type": "code",
   "execution_count": 79,
   "metadata": {},
   "outputs": [],
   "source": [
    "# Director\n",
    "class CarDirector:\n",
    "    \n",
    "    def __init__(self, builder: CarBuilder):\n",
    "        self._builder = builder\n",
    "    \n",
    "    def makeSUVCar(self, engine, seats, gps):\n",
    "        self._builder\\\n",
    "            .setEngine(engine)\\\n",
    "            .setSeats(seats)\\\n",
    "            .setGPS(gps)\n",
    "        return self._builder.result\n",
    "\n",
    "    def makeSportCar(self, engine, seats, trip_computer):\n",
    "        self._builder\\\n",
    "            .setEngine(engine)\\\n",
    "            .setSeats(seats)\\\n",
    "            .setTripComputer(trip_computer)\n",
    "        return self._builder.result\n",
    "\n",
    "    def makeDeluxeCar(self, engine, seats, gps, trip_computer):\n",
    "        self._builder\\\n",
    "            .setEngine(engine)\\\n",
    "            .setSeats(seats)\\\n",
    "            .setGPS(gps)\\\n",
    "            .setTripComputer(trip_computer)\n",
    "        return self._builder.result"
   ]
  },
  {
   "cell_type": "code",
   "execution_count": 80,
   "metadata": {},
   "outputs": [],
   "source": [
    "builder = CarBuilder()\n",
    "director = CarDirector(builder)"
   ]
  },
  {
   "cell_type": "code",
   "execution_count": 85,
   "metadata": {},
   "outputs": [
    {
     "name": "stdout",
     "output_type": "stream",
     "text": [
      "Car(engine=1.0, seats=5, gps=Waze, trip_computer=None)\n"
     ]
    }
   ],
   "source": [
    "suv = director.makeSUVCar(engine='1.0', seats=5, gps='Waze')\n",
    "print(suv)"
   ]
  },
  {
   "cell_type": "code",
   "execution_count": 84,
   "metadata": {},
   "outputs": [
    {
     "name": "stdout",
     "output_type": "stream",
     "text": [
      "Car(engine=2.0, seats=5, gps=None, trip_computer=SO: Android 11)\n"
     ]
    }
   ],
   "source": [
    "sport = director.makeSportCar(engine='2.0', seats=5, trip_computer='SO: Android 11')\n",
    "print(sport)"
   ]
  },
  {
   "cell_type": "code",
   "execution_count": 86,
   "metadata": {},
   "outputs": [
    {
     "name": "stdout",
     "output_type": "stream",
     "text": [
      "Car(engine=2.0, seats=5, gps=Waze, trip_computer=SO: Android 11)\n"
     ]
    }
   ],
   "source": [
    "deluxe = director.makeDeluxeCar(engine='2.0', seats=5, trip_computer='SO: Android 11', gps='Waze')\n",
    "print(deluxe)"
   ]
  }
 ],
 "metadata": {
  "interpreter": {
   "hash": "9efce205f64ad363cd9f14615485aca38ee4ef0915866e318aa83c8d0c93f6fc"
  },
  "kernelspec": {
   "display_name": "Python 3.10.2 64-bit",
   "language": "python",
   "name": "python3"
  },
  "language_info": {
   "codemirror_mode": {
    "name": "ipython",
    "version": 3
   },
   "file_extension": ".py",
   "mimetype": "text/x-python",
   "name": "python",
   "nbconvert_exporter": "python",
   "pygments_lexer": "ipython3",
   "version": "3.10.2"
  },
  "orig_nbformat": 4
 },
 "nbformat": 4,
 "nbformat_minor": 2
}
