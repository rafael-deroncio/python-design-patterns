{
 "cells": [
  {
   "cell_type": "markdown",
   "metadata": {},
   "source": [
    "![Builder Diagrama](Builder.png)"
   ]
  },
  {
   "cell_type": "code",
   "execution_count": 69,
   "metadata": {},
   "outputs": [],
   "source": [
    "from __future__ import annotations\n",
    "from abc import ABC, abstractmethod"
   ]
  },
  {
   "cell_type": "code",
   "execution_count": 70,
   "metadata": {},
   "outputs": [],
   "source": [
    "class StringReprMixin:\n",
    "    \n",
    "    def __str__(self):\n",
    "        params = ', '.join([f'{k}={v}' for k, v in self.__dict__.items()])\n",
    "        return f'{self.__class__.__name__}({params})'\n",
    "\n",
    "    def __repr__(self):\n",
    "        return self.__str__()"
   ]
  },
  {
   "cell_type": "code",
   "execution_count": 71,
   "metadata": {},
   "outputs": [],
   "source": [
    "# PRODUCT\n",
    "class User(StringReprMixin):\n",
    "    \n",
    "    def __init__(self):\n",
    "        self.firstname = None\n",
    "        self.lastname = None\n",
    "        self.age = None\n",
    "        self.phone_numbers = []\n",
    "        self.addresses = []"
   ]
  },
  {
   "cell_type": "code",
   "execution_count": 72,
   "metadata": {},
   "outputs": [],
   "source": [
    "# BUILDER\n",
    "class IUserBuilder(ABC):\n",
    "    \n",
    "    @property\n",
    "    @abstractmethod\n",
    "    def result(self): pass\n",
    "\n",
    "    @abstractmethod\n",
    "    def add_firstname(self, firstname): pass\n",
    "          \n",
    "    @abstractmethod\n",
    "    def add_lastname(self, lastname): pass\n",
    "          \n",
    "    @abstractmethod\n",
    "    def add_age(self, age): pass\n",
    "          \n",
    "    @abstractmethod\n",
    "    def add_phones_number(self, phones_number): pass\n",
    "\n",
    "    @abstractmethod\n",
    "    def add_address(self, address): pass"
   ]
  },
  {
   "cell_type": "code",
   "execution_count": 73,
   "metadata": {},
   "outputs": [],
   "source": [
    "# CONCRETE BUILDER\n",
    "class UserBuilder(IUserBuilder):\n",
    "    \n",
    "    def __init__(self):\n",
    "        self.reset()\n",
    "    \n",
    "    def reset(self):\n",
    "        self._result = User()\n",
    "    \n",
    "    @property\n",
    "    def result(self):\n",
    "        return_data = self._result\n",
    "        self.reset()\n",
    "        return return_data\n",
    "\n",
    "    def add_firstname(self, firstname):\n",
    "        self._result.firstname = firstname\n",
    "        return self\n",
    "          \n",
    "    def add_lastname(self, lastname):\n",
    "        self._result.lastname = lastname\n",
    "        return self\n",
    "          \n",
    "    def add_age(self, age):\n",
    "        self._result.age = age\n",
    "        return self\n",
    "          \n",
    "    def add_phones_number(self, phone):\n",
    "        self._result.phone_numbers.append(phone)\n",
    "        return self\n",
    "\n",
    "    def add_address(self, addresses):\n",
    "        self._result.addresses.append(addresses)\n",
    "        return self"
   ]
  },
  {
   "cell_type": "code",
   "execution_count": 78,
   "metadata": {},
   "outputs": [],
   "source": [
    "# DIRECTOR\n",
    "class UserDirector:\n",
    "    def __init__(self, builder):\n",
    "        self._builder = builder\n",
    "        \n",
    "    def with_age(self, firstname, lastname, age):\n",
    "        self._builder\\\n",
    "            .add_firstname(firstname)\\\n",
    "            .add_lastname(lastname)\\\n",
    "            .add_age(age)\n",
    "        return self._builder.result\n",
    "    \n",
    "    def with_phones_number(self, firstname, lastname, phones_number):\n",
    "        self._builder\\\n",
    "            .add_firstname(firstname)\\\n",
    "            .add_lastname(lastname)\\\n",
    "            .add_phones_number(phones_number)\n",
    "        return self._builder.result\n",
    "\n",
    "    def with_adresses(self, firstname, lastname, adresses):\n",
    "        self._builder\\\n",
    "            .add_firstname(firstname)\\\n",
    "            .add_lastname(lastname)\\\n",
    "            .add_address(adresses)\n",
    "        return self._builder.result\n",
    "\n",
    "    def complete(self, firstname, lastname, age, phones_number, adresses):\n",
    "        self._builder\\\n",
    "            .add_firstname(firstname)\\\n",
    "            .add_lastname(lastname)\\\n",
    "            .add_age(age)\\\n",
    "            .add_phones_number(phones_number)\\\n",
    "            .add_address(adresses)\n",
    "        return self._builder.result"
   ]
  },
  {
   "cell_type": "code",
   "execution_count": 80,
   "metadata": {},
   "outputs": [
    {
     "name": "stdout",
     "output_type": "stream",
     "text": [
      "User(firstname=Rafael, lastname=Deroncio, age=28, phone_numbers=[], addresses=[])\n",
      "User(firstname=Juliana, lastname=Paula, age=None, phone_numbers=[], addresses=['Rua Nova York, 23'])\n",
      "User(firstname=Bernardo, lastname=Melo, age=7, phone_numbers=[99988776655], addresses=['Rua Nova York, 23'])\n"
     ]
    }
   ],
   "source": [
    "# Instanciando os Objetos\n",
    "if __name__ == '__main__':\n",
    "    user_builder = UserBuilder()\n",
    "    user_director = UserDirector(user_builder)\n",
    "\n",
    "    usuario_01 = user_director.with_age('Rafael', 'Deroncio', 28)\n",
    "    \n",
    "    usuario_02 = user_director.with_adresses('Juliana', 'Paula', 'Rua Nova York, 23')\n",
    "    \n",
    "    usuario_03 = user_director.complete('Bernardo', 'Melo', 7, 99988776655, 'Rua Nova York, 23')\n",
    "    \n",
    "    print(usuario_01)\n",
    "    \n",
    "    print(usuario_02)\n",
    "    \n",
    "    print(usuario_03)"
   ]
  },
  {
   "cell_type": "code",
   "execution_count": null,
   "metadata": {},
   "outputs": [],
   "source": []
  }
 ],
 "metadata": {
  "interpreter": {
   "hash": "9efce205f64ad363cd9f14615485aca38ee4ef0915866e318aa83c8d0c93f6fc"
  },
  "kernelspec": {
   "display_name": "Python 3.10.2 64-bit",
   "language": "python",
   "name": "python3"
  },
  "language_info": {
   "codemirror_mode": {
    "name": "ipython",
    "version": 3
   },
   "file_extension": ".py",
   "mimetype": "text/x-python",
   "name": "python",
   "nbconvert_exporter": "python",
   "pygments_lexer": "ipython3",
   "version": "3.10.2"
  },
  "orig_nbformat": 4
 },
 "nbformat": 4,
 "nbformat_minor": 2
}
