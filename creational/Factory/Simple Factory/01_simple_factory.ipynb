{
 "cells": [
  {
   "cell_type": "markdown",
   "metadata": {},
   "source": [
    "![Prototype Diagrama](Simple%20Factory.png)"
   ]
  },
  {
   "cell_type": "code",
   "execution_count": 46,
   "metadata": {},
   "outputs": [],
   "source": [
    "from abc import ABC, abstractmethod\n",
    "from random import choice"
   ]
  },
  {
   "cell_type": "code",
   "execution_count": 47,
   "metadata": {},
   "outputs": [],
   "source": [
    "# PRODUCT {abstract}\n",
    "class Vehicle(ABC):\n",
    "    \n",
    "    @abstractmethod\n",
    "    def serch_client(self) -> None: pass"
   ]
  },
  {
   "cell_type": "code",
   "execution_count": 48,
   "metadata": {},
   "outputs": [],
   "source": [
    "# CONCRETE PRODUCT\n",
    "class LuxuryCar(Vehicle):\n",
    "    \n",
    "    def serch_client(self) -> None:\n",
    "        print('Carro de Luxo indo buscar o cliente.')\n",
    "\n",
    "\n",
    "class PopularCar(Vehicle):\n",
    "    \n",
    "    def serch_client(self) -> None:\n",
    "        print('Carro Popular indo buscar o cliente.')\n",
    "\n",
    "    \n",
    "class Motorcycle(Vehicle):\n",
    "    \n",
    "    def serch_client(self) -> None:\n",
    "        print('Moto indo buscar o cliente.')"
   ]
  },
  {
   "cell_type": "code",
   "execution_count": 49,
   "metadata": {},
   "outputs": [],
   "source": [
    "# FACTORY\n",
    "class VehicleFactory:\n",
    "    \n",
    "    @staticmethod\n",
    "    def getVehicle(car: str) -> Vehicle:\n",
    "        if car == 'LuxuryCar':\n",
    "            return LuxuryCar()\n",
    "        if car == 'PopularCar':\n",
    "            return PopularCar()\n",
    "        if car == 'Motorcycle':\n",
    "            return Motorcycle()\n",
    "        assert 0, 'Vehicle not exists'"
   ]
  },
  {
   "cell_type": "code",
   "execution_count": 50,
   "metadata": {},
   "outputs": [
    {
     "name": "stdout",
     "output_type": "stream",
     "text": [
      "Moto indo buscar o cliente.\n",
      "Moto indo buscar o cliente.\n",
      "Carro de Luxo indo buscar o cliente.\n",
      "Moto indo buscar o cliente.\n",
      "Carro de Luxo indo buscar o cliente.\n",
      "Carro de Luxo indo buscar o cliente.\n",
      "Carro Popular indo buscar o cliente.\n",
      "Moto indo buscar o cliente.\n",
      "Moto indo buscar o cliente.\n",
      "Carro de Luxo indo buscar o cliente.\n"
     ]
    }
   ],
   "source": [
    "if __name__ == '__main__':\n",
    "    \n",
    "    # CLIENT\n",
    "    \n",
    "    vehicles = ['LuxuryCar', 'PopularCar', 'Motorcycle']\n",
    "    \n",
    "    for car in range(10):\n",
    "        carro = VeiculoFactory.getVehicle(choice(vehicles))\n",
    "        carro.serch_client()"
   ]
  }
 ],
 "metadata": {
  "interpreter": {
   "hash": "9efce205f64ad363cd9f14615485aca38ee4ef0915866e318aa83c8d0c93f6fc"
  },
  "kernelspec": {
   "display_name": "Python 3.10.2 64-bit",
   "language": "python",
   "name": "python3"
  },
  "language_info": {
   "codemirror_mode": {
    "name": "ipython",
    "version": 3
   },
   "file_extension": ".py",
   "mimetype": "text/x-python",
   "name": "python",
   "nbconvert_exporter": "python",
   "pygments_lexer": "ipython3",
   "version": "3.10.2"
  },
  "orig_nbformat": 4
 },
 "nbformat": 4,
 "nbformat_minor": 2
}
