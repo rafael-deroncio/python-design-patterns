{
 "cells": [
  {
   "cell_type": "markdown",
   "metadata": {},
   "source": [
    "![SimpleFactory](SimpleFactory.png)\n",
    "\n",
    "1. Permite que as interfaces criesm objetos sem expor a lógica de sua criação."
   ]
  },
  {
   "cell_type": "code",
   "execution_count": 7,
   "metadata": {},
   "outputs": [],
   "source": [
    "from abc import ABCMeta, abstractmethod"
   ]
  },
  {
   "cell_type": "code",
   "execution_count": 8,
   "metadata": {},
   "outputs": [],
   "source": [
    "class Animal(metaclass=ABCMeta):\n",
    "    \n",
    "    @abstractmethod\n",
    "    def do_say(self):\n",
    "        pass\n",
    "\n",
    "class Dog(Animal):\n",
    "    \n",
    "    def do_say(self):\n",
    "        print('Wolff! Wolff! Wolff!')\n",
    "        \n",
    "class Cat(Animal):\n",
    "    \n",
    "    def do_say(self):\n",
    "        print('Meow! Meow! Meow!')"
   ]
  },
  {
   "cell_type": "code",
   "execution_count": 9,
   "metadata": {},
   "outputs": [],
   "source": [
    "class ForestFactory:\n",
    "    \n",
    "    def make_sound(self, object_type):\n",
    "        return eval(object_type)().do_say()"
   ]
  },
  {
   "cell_type": "code",
   "execution_count": 10,
   "metadata": {},
   "outputs": [
    {
     "name": "stdout",
     "output_type": "stream",
     "text": [
      "Wolff! Wolff! Wolff!\n"
     ]
    }
   ],
   "source": [
    "if __name__ == '__main__':\n",
    "    ff = ForestFactory()\n",
    "    \n",
    "    animal = 'Dog'\n",
    "    \n",
    "    ff.make_sound(animal)"
   ]
  }
 ],
 "metadata": {
  "kernelspec": {
   "display_name": "Python 3.10.2 64-bit",
   "language": "python",
   "name": "python3"
  },
  "language_info": {
   "codemirror_mode": {
    "name": "ipython",
    "version": 3
   },
   "file_extension": ".py",
   "mimetype": "text/x-python",
   "name": "python",
   "nbconvert_exporter": "python",
   "pygments_lexer": "ipython3",
   "version": "3.10.2"
  },
  "orig_nbformat": 4,
  "vscode": {
   "interpreter": {
    "hash": "d3e10ef16274dd72e574b8fa73b58450b957d8421a2901baded3cca26fcf5dda"
   }
  }
 },
 "nbformat": 4,
 "nbformat_minor": 2
}
