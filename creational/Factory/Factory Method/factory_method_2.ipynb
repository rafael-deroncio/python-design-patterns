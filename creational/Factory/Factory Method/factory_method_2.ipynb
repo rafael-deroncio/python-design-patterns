{
 "cells": [
  {
   "cell_type": "markdown",
   "metadata": {},
   "source": [
    "![FactoryMethod](FactoryMethod_2.png)\n",
    "\n",
    "1. Permite que as interfaces criem objetos, mas adia a decisão para que as subclasses determinem a classe pura do objeto."
   ]
  },
  {
   "cell_type": "code",
   "execution_count": 14,
   "metadata": {},
   "outputs": [],
   "source": [
    "from abc import ABCMeta, abstractmethod"
   ]
  },
  {
   "cell_type": "code",
   "execution_count": 15,
   "metadata": {},
   "outputs": [],
   "source": [
    "# Concrete Product\n",
    "\n",
    "class Section(metaclass = ABCMeta):\n",
    "    @abstractmethod\n",
    "    def describe(self):\n",
    "        pass\n",
    "\n",
    "class PersonalSection(Section):\n",
    "    def describe(self):\n",
    "        print('Personal Section')\n",
    "\n",
    "class AlbumSection(Section):\n",
    "    def describe(self):\n",
    "        print('Album Section')\n",
    "\n",
    "class PatentSection(Section):\n",
    "    def describe(self):\n",
    "        print('Patent Section')\n",
    "\n",
    "class PublicationSection(Section):\n",
    "    def describe(self):\n",
    "        print('Publication Section')"
   ]
  },
  {
   "cell_type": "code",
   "execution_count": 16,
   "metadata": {},
   "outputs": [],
   "source": [
    "# Creator\n",
    "\n",
    "class Profile(metaclass = ABCMeta):\n",
    "    def __init__(self):\n",
    "        self.sections = []\n",
    "        self.createProfile()\n",
    "    \n",
    "    @abstractmethod\n",
    "    def createProfile(self):\n",
    "        pass\n",
    "    \n",
    "    def getSections(self):\n",
    "        return self.sections\n",
    "    \n",
    "    def addSections(self, section):\n",
    "        self.sections.append(section) "
   ]
  },
  {
   "cell_type": "code",
   "execution_count": 17,
   "metadata": {},
   "outputs": [],
   "source": [
    "# Concrete Creator\n",
    "\n",
    "class LinkedIn(Profile):\n",
    "    def createProfile(self):\n",
    "        self.addSections(PersonalSection())\n",
    "        self.addSections(PatentSection())\n",
    "        self.addSections(PublicationSection())\n",
    "\n",
    "class Facebook(Profile):\n",
    "    def createProfile(self):\n",
    "        self.addSections(PersonalSection())\n",
    "        self.addSections(AlbumSection())"
   ]
  },
  {
   "cell_type": "code",
   "execution_count": 18,
   "metadata": {},
   "outputs": [
    {
     "name": "stdout",
     "output_type": "stream",
     "text": [
      "[<__main__.PersonalSection object at 0x000002786DC3A5C0>, <__main__.PatentSection object at 0x000002786DC3B280>, <__main__.PublicationSection object at 0x000002786DC3B940>]\n"
     ]
    }
   ],
   "source": [
    "if __name__ == '__main__':\n",
    "    profile_type = ['LinkedIn', 'Facebook']\n",
    "    \n",
    "    profile = eval(profile_type[0])()\n",
    "    sections = profile.getSections()\n",
    "    \n",
    "    print(sections)"
   ]
  }
 ],
 "metadata": {
  "kernelspec": {
   "display_name": "Python 3.10.2 64-bit",
   "language": "python",
   "name": "python3"
  },
  "language_info": {
   "codemirror_mode": {
    "name": "ipython",
    "version": 3
   },
   "file_extension": ".py",
   "mimetype": "text/x-python",
   "name": "python",
   "nbconvert_exporter": "python",
   "pygments_lexer": "ipython3",
   "version": "3.10.2"
  },
  "orig_nbformat": 4,
  "vscode": {
   "interpreter": {
    "hash": "d3e10ef16274dd72e574b8fa73b58450b957d8421a2901baded3cca26fcf5dda"
   }
  }
 },
 "nbformat": 4,
 "nbformat_minor": 2
}
