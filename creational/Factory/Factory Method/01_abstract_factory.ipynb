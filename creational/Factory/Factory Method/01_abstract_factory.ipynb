{
 "cells": [
  {
   "cell_type": "markdown",
   "metadata": {},
   "source": [
    "![Prototype Diagrama](Factory%20Method.png)"
   ]
  },
  {
   "cell_type": "code",
   "execution_count": 22,
   "metadata": {},
   "outputs": [],
   "source": [
    "from abc import ABC, abstractmethod\n",
    "from random import choice"
   ]
  },
  {
   "cell_type": "code",
   "execution_count": 23,
   "metadata": {},
   "outputs": [],
   "source": [
    "# PRODUCT {abstract}\n",
    "class Vehicle(ABC):\n",
    "    \n",
    "    @abstractmethod\n",
    "    def serch_client(self) -> None: pass"
   ]
  },
  {
   "cell_type": "code",
   "execution_count": 24,
   "metadata": {},
   "outputs": [],
   "source": [
    "# CONCRETE PRODUCT\n",
    "class LuxuryCar(Vehicle):\n",
    "    \n",
    "    def serch_client(self) -> None:\n",
    "        print('Carro de Luxo indo buscar o cliente.')\n",
    "\n",
    "\n",
    "class PopularCar(Vehicle):\n",
    "    \n",
    "    def serch_client(self) -> None:\n",
    "        print('Carro Popular indo buscar o cliente.')\n",
    "\n",
    "    \n",
    "class Motorcycle(Vehicle):\n",
    "    \n",
    "    def serch_client(self) -> None:\n",
    "        print('Moto indo buscar o cliente.')"
   ]
  },
  {
   "cell_type": "code",
   "execution_count": 25,
   "metadata": {},
   "outputs": [],
   "source": [
    "# FACTORY\n",
    "class VehicleFactory(ABC):\n",
    "    \n",
    "    def __init__(self, tipo: Vehicle):\n",
    "        self.__tipo = self.getVehicle(tipo)\n",
    "    \n",
    "    @staticmethod\n",
    "    @abstractmethod\n",
    "    def getVehicle(car: str) -> Vehicle: pass\n",
    "    \n",
    "    @property\n",
    "    def tipo(self):\n",
    "        return self.__tipo\n",
    "    \n",
    "    def serch_client(self):\n",
    "        self.__tipo.serch_client()"
   ]
  },
  {
   "cell_type": "code",
   "execution_count": 26,
   "metadata": {},
   "outputs": [],
   "source": [
    "# FACTORY METHOD\n",
    "class ZonaNorteVehicleFactory(VehicleFactory):\n",
    "    \n",
    "    def __init__(self, tipo: Vehicle):\n",
    "        self.__tipo = self.getVehicle(tipo)\n",
    "    \n",
    "    @staticmethod\n",
    "    def getVehicle(car: str) -> Vehicle:\n",
    "        if car == 'LuxuryCar':\n",
    "            return LuxuryCar()\n",
    "        if car == 'Motorcycle':\n",
    "            return Motorcycle()\n",
    "        assert 0, 'Vehicle not exists'\n",
    "    \n",
    "    @property\n",
    "    def tipo(self):\n",
    "        return self.__tipo\n",
    "    \n",
    "    def serch_client(self):\n",
    "        self.__tipo.serch_client()"
   ]
  },
  {
   "cell_type": "code",
   "execution_count": 27,
   "metadata": {},
   "outputs": [],
   "source": [
    "# FACTORY METHOD\n",
    "class ZonaLesteVehicleFactory(VehicleFactory):\n",
    "    \n",
    "    def __init__(self, tipo: Vehicle):\n",
    "        self.__tipo = self.getVehicle(tipo)\n",
    "    \n",
    "    @staticmethod\n",
    "    def getVehicle(car: str) -> Vehicle:\n",
    "        if car == 'PopularCar':\n",
    "            return PopularCar()\n",
    "        assert 0, 'Vehicle not exists'\n",
    "    \n",
    "    @property\n",
    "    def tipo(self):\n",
    "        return self.__tipo\n",
    "    \n",
    "    def serch_client(self):\n",
    "        self.__tipo.serch_client()"
   ]
  },
  {
   "cell_type": "code",
   "execution_count": 28,
   "metadata": {},
   "outputs": [
    {
     "name": "stdout",
     "output_type": "stream",
     "text": [
      "Carro de Luxo indo buscar o cliente.\n",
      "Moto indo buscar o cliente.\n",
      "Carro de Luxo indo buscar o cliente.\n",
      "Carro de Luxo indo buscar o cliente.\n",
      "Carro de Luxo indo buscar o cliente.\n",
      "Carro de Luxo indo buscar o cliente.\n",
      "Carro de Luxo indo buscar o cliente.\n",
      "Carro de Luxo indo buscar o cliente.\n",
      "Moto indo buscar o cliente.\n",
      "Moto indo buscar o cliente.\n",
      "\n",
      "Carro Popular indo buscar o cliente.\n",
      "Carro Popular indo buscar o cliente.\n",
      "Carro Popular indo buscar o cliente.\n",
      "Carro Popular indo buscar o cliente.\n",
      "Carro Popular indo buscar o cliente.\n",
      "Carro Popular indo buscar o cliente.\n",
      "Carro Popular indo buscar o cliente.\n",
      "Carro Popular indo buscar o cliente.\n",
      "Carro Popular indo buscar o cliente.\n",
      "Carro Popular indo buscar o cliente.\n"
     ]
    }
   ],
   "source": [
    "if __name__ == '__main__':\n",
    "    \n",
    "    # CLIENT\n",
    "    \n",
    "    zona_norte_vehicles = ['LuxuryCar', 'Motorcycle']\n",
    "    \n",
    "    for car in range(10):\n",
    "        vehicles_zn = ZonaNorteVehicleFactory.getVehicle(choice(zona_norte_vehicles))\n",
    "        vehicles_zn.serch_client()\n",
    "    \n",
    "    print()\n",
    "    \n",
    "    zona_leste_vehicles = ['PopularCar']\n",
    "    \n",
    "    for car in range(10):\n",
    "        vehicles_zl = ZonaLesteVehicleFactory.getVehicle(choice(zona_leste_vehicles))\n",
    "        vehicles_zl.serch_client()"
   ]
  }
 ],
 "metadata": {
  "interpreter": {
   "hash": "9efce205f64ad363cd9f14615485aca38ee4ef0915866e318aa83c8d0c93f6fc"
  },
  "kernelspec": {
   "display_name": "Python 3.10.2 64-bit",
   "language": "python",
   "name": "python3"
  },
  "language_info": {
   "codemirror_mode": {
    "name": "ipython",
    "version": 3
   },
   "file_extension": ".py",
   "mimetype": "text/x-python",
   "name": "python",
   "nbconvert_exporter": "python",
   "pygments_lexer": "ipython3",
   "version": "3.10.2"
  },
  "orig_nbformat": 4
 },
 "nbformat": 4,
 "nbformat_minor": 2
}
