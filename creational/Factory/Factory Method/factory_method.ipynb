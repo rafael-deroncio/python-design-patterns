{
 "cells": [
  {
   "cell_type": "markdown",
   "metadata": {},
   "source": [
    "![Factory Method](FactoryMethod.png)\n",
    "\n",
    "1. O Produto declara a interface, que é comum a todos os objetos que podem ser produzidos pelo criador e suas subclasses.\n",
    "\n",
    "2. Produtos Concretos são implementações diferentes da interface do produto.\n",
    "\n",
    "3. A classe Criador declara o método fábrica que retorna novos objetos produto. É importante que o tipo de retorno desse método corresponda à interface do produto.\n",
    "   \n",
    "   Você pode declarar o método fábrica como abstrato para forçar todas as subclasses a implementar suas próprias versões do método. Como alternativa, o método fábrica base pode retornar algum tipo de produto padrão.\n",
    "   \n",
    "   Observe que, apesar do nome, a criação de produtos não é a principal responsabilidade do criador. Normalmente, a classe criadora já possui alguma lógica de negócio relacionada aos produtos. O método fábrica ajuda a dissociar essa lógica das classes concretas de produtos. Aqui está uma analogia: uma grande empresa de desenvolvimento de software pode ter um departamento de treinamento para programadores. No entanto, a principal função da empresa como um todo ainda é escrever código, não produzir programadores.\n",
    "   \n",
    "4. Criadores Concretos sobrescrevem o método fábrica base para retornar um tipo diferente de produto.\n",
    "   \n",
    "   Observe que o método fábrica não precisa criar novas instâncias o tempo todo. Ele também pode retornar objetos existentes de um cache, um conjunto de objetos, ou outra fonte."
   ]
  },
  {
   "cell_type": "code",
   "execution_count": 14,
   "metadata": {},
   "outputs": [],
   "source": [
    "from abc import ABC, abstractmethod\n",
    "from __future__ import annotations\n",
    "from random import choice"
   ]
  },
  {
   "cell_type": "code",
   "execution_count": 15,
   "metadata": {},
   "outputs": [],
   "source": [
    "# Product\n",
    "class Transport(ABC):\n",
    "    \n",
    "    @abstractmethod\n",
    "    def deliver(self) -> None: pass"
   ]
  },
  {
   "cell_type": "code",
   "execution_count": 16,
   "metadata": {},
   "outputs": [],
   "source": [
    "# Concrete ProductA\n",
    "class Truck(Transport):\n",
    "    def __init__(self):\n",
    "        self._inTransport = False\n",
    "    \n",
    "    def deliver(self):\n",
    "        print('Caminhão efetuando transporte.')\n",
    "        self._inTransport = True\n",
    "\n",
    "# Concrete ProductB\n",
    "class Ship(Transport):\n",
    "    def __init__(self):\n",
    "        self._inTransport = False\n",
    "    \n",
    "    def deliver(self):\n",
    "        print('Barco efetuando transporte.')\n",
    "        self._inTransport = True"
   ]
  },
  {
   "cell_type": "code",
   "execution_count": 17,
   "metadata": {},
   "outputs": [],
   "source": [
    "# Concrete CreatorA\n",
    "class RoadLogistics:\n",
    "    \n",
    "    @staticmethod\n",
    "    def createProduct() -> Transport:\n",
    "        return Truck()\n",
    "\n",
    "# Concrete CreatorB\n",
    "class SeaLogistics:\n",
    "    \n",
    "    @staticmethod\n",
    "    def createProduct() -> Transport:\n",
    "        return Ship()"
   ]
  },
  {
   "cell_type": "code",
   "execution_count": 18,
   "metadata": {},
   "outputs": [],
   "source": [
    "# Creator\n",
    "class CreatorLogistic:\n",
    "    \n",
    "    def getTransport(self, transport) -> Transport:\n",
    "        if transport == 'Truck':\n",
    "            return RoadLogistics()\n",
    "        \n",
    "        if transport == 'Ship':\n",
    "            return SeaLogistics()\n",
    "        \n",
    "        assert 0, 'Transport not exists'"
   ]
  },
  {
   "cell_type": "code",
   "execution_count": 30,
   "metadata": {},
   "outputs": [
    {
     "name": "stdout",
     "output_type": "stream",
     "text": [
      "Barco efetuando transporte.\n"
     ]
    }
   ],
   "source": [
    "if __name__ == '__main__':\n",
    "    \n",
    "    transports = ['Truck', 'Ship']\n",
    "    \n",
    "    logistic = CreatorLogistic()\n",
    "    \n",
    "    transport = logistic.getTransport(choice(transports)).createProduct()\n",
    "    \n",
    "    transport.deliver()\n",
    "    "
   ]
  }
 ],
 "metadata": {
  "interpreter": {
   "hash": "9efce205f64ad363cd9f14615485aca38ee4ef0915866e318aa83c8d0c93f6fc"
  },
  "kernelspec": {
   "display_name": "Python 3.10.2 64-bit",
   "language": "python",
   "name": "python3"
  },
  "language_info": {
   "codemirror_mode": {
    "name": "ipython",
    "version": 3
   },
   "file_extension": ".py",
   "mimetype": "text/x-python",
   "name": "python",
   "nbconvert_exporter": "python",
   "pygments_lexer": "ipython3",
   "version": "3.10.2"
  },
  "orig_nbformat": 4
 },
 "nbformat": 4,
 "nbformat_minor": 2
}
