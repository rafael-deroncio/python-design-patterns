{
 "cells": [
  {
   "cell_type": "markdown",
   "metadata": {},
   "source": [
    "![AbstractFactory](AbstractFactory_2.png)"
   ]
  },
  {
   "cell_type": "code",
   "execution_count": 22,
   "metadata": {},
   "outputs": [],
   "source": [
    "from abc import ABCMeta, abstractmethod"
   ]
  },
  {
   "cell_type": "code",
   "execution_count": 23,
   "metadata": {},
   "outputs": [],
   "source": [
    "# Abstract Factory\n",
    "\n",
    "class PizzaFactory(metaclass = ABCMeta):\n",
    "    \n",
    "    @abstractmethod\n",
    "    def createVegPizza(self):\n",
    "        pass\n",
    "\n",
    "    @abstractmethod\n",
    "    def createNonVegPizza(self):\n",
    "        pass"
   ]
  },
  {
   "cell_type": "code",
   "execution_count": 24,
   "metadata": {},
   "outputs": [],
   "source": [
    "# Concrete Factory 1\n",
    "\n",
    "class IndianPizzaFactory(PizzaFactory):\n",
    "    \n",
    "    def createVegPizza(self):\n",
    "        return DeluxVeggiePizza()\n",
    "\n",
    "    def createNonVegPizza(self):\n",
    "        return ChickenPizza()"
   ]
  },
  {
   "cell_type": "code",
   "execution_count": 25,
   "metadata": {},
   "outputs": [],
   "source": [
    "# Concrete Factory 2\n",
    "\n",
    "class USAPizzaFactory(PizzaFactory):\n",
    "    \n",
    "    def createVegPizza(self):\n",
    "        return MushroomPizza()\n",
    "\n",
    "    def createNonVegPizza(self):\n",
    "        return HamPizza()"
   ]
  },
  {
   "cell_type": "code",
   "execution_count": 26,
   "metadata": {},
   "outputs": [],
   "source": [
    "# Abstract Product\n",
    "\n",
    "class VegPizza(metaclass = ABCMeta):\n",
    "\n",
    "    @abstractmethod\n",
    "    def prepare(self, VegPizza):\n",
    "        pass"
   ]
  },
  {
   "cell_type": "code",
   "execution_count": 27,
   "metadata": {},
   "outputs": [],
   "source": [
    "# Concrete Product 1\n",
    "\n",
    "class DeluxVeggiePizza(VegPizza):\n",
    "\n",
    "    def prepare(self):\n",
    "        print(f\"Prepare {type(self).__name__}.\")\n",
    "\n",
    "# Concrete Product 2\n",
    "\n",
    "class MushroomPizza(VegPizza):\n",
    "\n",
    "    def prepare(self):\n",
    "        print(f\"Prepare {type(self).__name__}.\")"
   ]
  },
  {
   "cell_type": "code",
   "execution_count": 28,
   "metadata": {},
   "outputs": [],
   "source": [
    "# Another Abstract Product\n",
    "\n",
    "class NonVegPizza(metaclass = ABCMeta):\n",
    "\n",
    "    @abstractmethod\n",
    "    def serve(self, VegPizza):\n",
    "        pass"
   ]
  },
  {
   "cell_type": "code",
   "execution_count": 29,
   "metadata": {},
   "outputs": [],
   "source": [
    "# Another Concrete Product 1\n",
    "\n",
    "class ChickenPizza(NonVegPizza):\n",
    "\n",
    "    def serve(self, VegPizza):\n",
    "        print(f\"{type(self).__name__} is served with Chicken on {type(VegPizza).__name__}\")\n",
    "\n",
    "# Another Concrete Product 2\n",
    "\n",
    "class HamPizza(NonVegPizza):\n",
    "\n",
    "    def serve(self, VegPizza):\n",
    "        print(f\"{type(self).__name__} is served with Ham on {type(VegPizza).__name__}\")"
   ]
  },
  {
   "cell_type": "code",
   "execution_count": 30,
   "metadata": {},
   "outputs": [],
   "source": [
    "# Client\n",
    "\n",
    "class PizzaStore:\n",
    "\n",
    "    def __init__(self):\n",
    "        pass\n",
    "\n",
    "    def makePizzas(self):\n",
    "        for factory in [IndianPizzaFactory(), USAPizzaFactory()]:\n",
    "            self.factory = factory\n",
    "            self.NonVegPizza = self.factory.createNonVegPizza()\n",
    "            self.VegPizza = self.factory.createVegPizza()\n",
    "            self.VegPizza.prepare()\n",
    "            self.NonVegPizza.serve(self.VegPizza)"
   ]
  },
  {
   "cell_type": "code",
   "execution_count": 31,
   "metadata": {},
   "outputs": [
    {
     "name": "stdout",
     "output_type": "stream",
     "text": [
      "Prepare DeluxVeggiePizza.\n",
      "ChickenPizza is served with Chicken on DeluxVeggiePizza\n",
      "Prepare MushroomPizza.\n",
      "HamPizza is served with Ham on MushroomPizza\n"
     ]
    }
   ],
   "source": [
    "pizza = PizzaStore()\n",
    "pizza.makePizzas()"
   ]
  }
 ],
 "metadata": {
  "kernelspec": {
   "display_name": "Python 3.10.2 64-bit",
   "language": "python",
   "name": "python3"
  },
  "language_info": {
   "codemirror_mode": {
    "name": "ipython",
    "version": 3
   },
   "file_extension": ".py",
   "mimetype": "text/x-python",
   "name": "python",
   "nbconvert_exporter": "python",
   "pygments_lexer": "ipython3",
   "version": "3.10.2"
  },
  "orig_nbformat": 4,
  "vscode": {
   "interpreter": {
    "hash": "d3e10ef16274dd72e574b8fa73b58450b957d8421a2901baded3cca26fcf5dda"
   }
  }
 },
 "nbformat": 4,
 "nbformat_minor": 2
}
