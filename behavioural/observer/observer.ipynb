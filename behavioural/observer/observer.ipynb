{
 "cells": [
  {
   "cell_type": "markdown",
   "metadata": {},
   "source": [
    "![Observer](Observer.png)\n",
    "\n",
    "|            |            |\n",
    "|:-------------|:-------------|\n",
    "| __Observable__ |  Observável, Subject\n",
    "| __Observer__ |  Observadores\n",
    "\n",
    "1. __Observable__ é a interface do subject que gera as informações.\n",
    "\n",
    "2. __Observer__ é a interface do objeto que gostaria de ser informado.\n",
    "\n",
    "3. A classe __ConcreteObservable__ é a implementação do Observable e que dispara as informações. \n",
    "\n",
    "4. A classe  __ConcreteObserver__ é a implementação do Observer e que recebe as informações."
   ]
  },
  {
   "cell_type": "code",
   "execution_count": 1,
   "metadata": {},
   "outputs": [],
   "source": [
    "from __future__ import annotations\n",
    "from abc import ABCMeta, abstractmethod"
   ]
  },
  {
   "cell_type": "code",
   "execution_count": 2,
   "metadata": {},
   "outputs": [],
   "source": [
    "class IObservable(metaclass = ABCMeta):\n",
    "\n",
    "    @abstractmethod\n",
    "    def add_observer(self, observer: IObserver) -> None: pass\n",
    "\n",
    "    @abstractmethod\n",
    "    def remove_observer(self, observer: IObserver) -> None: pass\n",
    "    \n",
    "    @abstractmethod\n",
    "    def notify_observer(self) -> None: pass"
   ]
  },
  {
   "cell_type": "code",
   "execution_count": 11,
   "metadata": {},
   "outputs": [],
   "source": [
    "class Observable(IObservable):\n",
    "\n",
    "    def __init__(self) -> None:\n",
    "        self._observers: list[IObserver] = []\n",
    "        self._state: dict = {}\n",
    "\n",
    "    @property\n",
    "    def state(self):\n",
    "        return self._state\n",
    "\n",
    "    @state.setter\n",
    "    def state(self, update_state) -> None:\n",
    "        new_state: dict = {**self._state, **update_state}\n",
    "\n",
    "        if new_state != self._state:\n",
    "            self._state = new_state\n",
    "            self.notify_observer()\n",
    "\n",
    "    def add_observer(self, observer: IObserver) -> None:\n",
    "        self._observers.append(observer)\n",
    "\n",
    "    def remove_observer(self, observer: Observer) -> None:\n",
    "        if observer in self._observers:\n",
    "            self._observers.remove(observer)\n",
    "            return\n",
    "    \n",
    "    def notify_observer(self) -> None:\n",
    "        for observer in self._observers:\n",
    "            observer.update()"
   ]
  },
  {
   "cell_type": "code",
   "execution_count": 12,
   "metadata": {},
   "outputs": [],
   "source": [
    "class IObserver(metaclass = ABCMeta):\n",
    "\n",
    "    @abstractmethod\n",
    "    def update(self) -> None: pass"
   ]
  },
  {
   "cell_type": "code",
   "execution_count": 15,
   "metadata": {},
   "outputs": [],
   "source": [
    "class Observer(IObserver):\n",
    "\n",
    "    def __init__(self, observer_name: str, observer_type: str, observable: IObservable) -> None:\n",
    "        self._observer_name = observer_name\n",
    "        self._observer_type = observer_type\n",
    "        self._observable = observable\n",
    "\n",
    "    def update(self) -> None:\n",
    "        observable_name = self._observable.__class__.__name__\n",
    "        print(f'Observer {self._observer_name} \\n'\n",
    "              f'{observable_name} acabou de ser atualizado => {self._observable.state} \\n')"
   ]
  },
  {
   "cell_type": "code",
   "execution_count": 18,
   "metadata": {},
   "outputs": [
    {
     "name": "stdout",
     "output_type": "stream",
     "text": [
      "Observer Iphone \n",
      "Observable acabou de ser atualizado => {'App': {'Notification': 'Hi!'}} \n",
      "\n",
      "Observer Apple Watch \n",
      "Observable acabou de ser atualizado => {'App': {'Notification': 'Hi!'}} \n",
      "\n",
      "Observer Ipad \n",
      "Observable acabou de ser atualizado => {'App': {'Notification': 'Hi!'}} \n",
      "\n",
      "Observer Iphone \n",
      "Observable acabou de ser atualizado => {'App': {'Notification': 'Hi, again!'}} \n",
      "\n",
      "Observer Apple Watch \n",
      "Observable acabou de ser atualizado => {'App': {'Notification': 'Hi, again!'}} \n",
      "\n"
     ]
    }
   ],
   "source": [
    "if __name__ == \"__main__\":\n",
    "    observable = Observable()\n",
    "\n",
    "    smartphone = Observer(observer_name='Iphone', observer_type='Smartphone', observable=observable)\n",
    "    smartwatch = Observer(observer_name='Apple Watch', observer_type='Smartwatch', observable=observable)\n",
    "    tablet = Observer(observer_name='Ipad', observer_type='Tablet', observable=observable)\n",
    "\n",
    "    observable.add_observer(smartphone)\n",
    "    observable.add_observer(smartwatch)\n",
    "    observable.add_observer(tablet)\n",
    "\n",
    "    observable.state = {'App': {'Notification': 'Hi!'}}\n",
    "\n",
    "    observable.remove_observer(tablet)\n",
    "\n",
    "    observable.state = {'App': {'Notification': 'Hi!'}}\n",
    "    observable.state = {'App': {'Notification': 'Hi, again!'}}"
   ]
  }
 ],
 "metadata": {
  "kernelspec": {
   "display_name": "Python 3.10.2 64-bit",
   "language": "python",
   "name": "python3"
  },
  "language_info": {
   "codemirror_mode": {
    "name": "ipython",
    "version": 3
   },
   "file_extension": ".py",
   "mimetype": "text/x-python",
   "name": "python",
   "nbconvert_exporter": "python",
   "pygments_lexer": "ipython3",
   "version": "3.10.2"
  },
  "orig_nbformat": 4,
  "vscode": {
   "interpreter": {
    "hash": "d3e10ef16274dd72e574b8fa73b58450b957d8421a2901baded3cca26fcf5dda"
   }
  }
 },
 "nbformat": 4,
 "nbformat_minor": 2
}
