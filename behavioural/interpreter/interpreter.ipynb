{
 "cells": [
  {
   "cell_type": "markdown",
   "metadata": {},
   "source": [
    "![Interpreter](Interpreter.png)\n",
    "\n",
    "1. __Expression__ descreva o(s) método(s) que as expressões Terminal e Não Terminal devem implementar.\n",
    "\n",
    "2. __NonTerminalExpression__ é um composto de expressões Terminais e/ou Não-Terminais.\n",
    "\n",
    "3. __TerminalExpression__ é uma expressão de nó folha.\n",
    "\n",
    "4. __Context__ é o estado que pode ser passado por meio de operações de interpretação, se necessário.\n",
    "\n",
    "5. __Client__ constrói ou recebe uma Árvore de Sintaxe Abstrata para interpretar.\n",
    "---\n",
    "A imagem abaixo, é um AST para a expressão __5 + 4 - 3 + 7 - 2__\n",
    "\n",
    "![](Interpreter_leaf.png)"
   ]
  },
  {
   "cell_type": "code",
   "execution_count": 30,
   "metadata": {},
   "outputs": [],
   "source": [
    "from abc import ABCMeta, abstractmethod\n",
    "from __future__ import annotations"
   ]
  },
  {
   "cell_type": "code",
   "execution_count": 31,
   "metadata": {},
   "outputs": [],
   "source": [
    "class Expression(metaclass = ABCMeta):\n",
    "\n",
    "    @abstractmethod\n",
    "    def interpret(self) -> str: pass"
   ]
  },
  {
   "cell_type": "code",
   "execution_count": 32,
   "metadata": {},
   "outputs": [],
   "source": [
    "class Number(Expression):\n",
    "    \"\"\" Expressão Terminal \"\"\"\n",
    "\n",
    "    def __init__(self, value : int) -> None:\n",
    "        self.value  = value\n",
    "\n",
    "    def interpret(self) -> str:\n",
    "        return self.value\n",
    "\n",
    "    def __repr__(self) -> str:\n",
    "        return f'{self.value}'"
   ]
  },
  {
   "cell_type": "code",
   "execution_count": 33,
   "metadata": {},
   "outputs": [],
   "source": [
    "class Add(Expression):\n",
    "    \"\"\" Expressão Nao Terminal \"\"\"\n",
    "\n",
    "    def __init__(self, left : int, right: int) -> None:\n",
    "        self.left  = left\n",
    "        self.right  = right\n",
    "\n",
    "    def interpret(self) -> str:\n",
    "        return self.left.interpret() + self.right.interpret()\n",
    "\n",
    "    def __repr__(self) -> str:\n",
    "        return f'{self.left} Adiciona {self.right}'"
   ]
  },
  {
   "cell_type": "code",
   "execution_count": 34,
   "metadata": {},
   "outputs": [],
   "source": [
    "class Subtract(Expression):\n",
    "    \"\"\" Expressão Nao Terminal \"\"\"\n",
    "\n",
    "    def __init__(self, left : int, right: int) -> None:\n",
    "        self.left  = left\n",
    "        self.right  = right\n",
    "\n",
    "    def interpret(self) -> str:\n",
    "        return self.left.interpret() - self.right.interpret()\n",
    "\n",
    "    def __repr__(self) -> str:\n",
    "        return f'{self.left} Subtrai {self.right}'"
   ]
  },
  {
   "cell_type": "code",
   "execution_count": 35,
   "metadata": {},
   "outputs": [],
   "source": [
    "class Context:\n",
    "\n",
    "    def __init__(self, sentence: str) -> None:\n",
    "        self.sentence = sentence\n",
    "        self.tokens = self.sentence.split(\" \")\n",
    "\n",
    "        self.ast: list[Expression] = []\n",
    "\n",
    "        self.add = Add()\n",
    "\n",
    "    "
   ]
  },
  {
   "cell_type": "code",
   "execution_count": 36,
   "metadata": {},
   "outputs": [
    {
     "name": "stdout",
     "output_type": "stream",
     "text": [
      "5 Adiciona 4 Subtrai 3 Adiciona 7 Subtrai 2\n"
     ]
    }
   ],
   "source": [
    "if __name__ == '__main__':\n",
    "  sentence = \"5 + 4 - 3 + 7 - 2\"\n",
    "\n",
    "  tokens = sentence.split(\" \")\n",
    "\n",
    "  ast: list[Expression] = []\n",
    "\n",
    "  ast.append(Add(Number(tokens[0]), Number(tokens[2]))) # 5 + 4\n",
    "  ast.append(Subtract(ast[0], Number(tokens[4])))       # ^ - 3 \n",
    "  ast.append(Add(ast[1], Number(tokens[6] )))           # ^ + 7\n",
    "  ast.append(Subtract(ast[2], Number(tokens[8])))       # ^ - 2\n",
    "\n",
    "  ast_root = ast.pop()\n",
    "\n",
    "  print(ast_root)"
   ]
  }
 ],
 "metadata": {
  "kernelspec": {
   "display_name": "Python 3.10.2 64-bit",
   "language": "python",
   "name": "python3"
  },
  "language_info": {
   "codemirror_mode": {
    "name": "ipython",
    "version": 3
   },
   "file_extension": ".py",
   "mimetype": "text/x-python",
   "name": "python",
   "nbconvert_exporter": "python",
   "pygments_lexer": "ipython3",
   "version": "3.10.2"
  },
  "orig_nbformat": 4,
  "vscode": {
   "interpreter": {
    "hash": "d3e10ef16274dd72e574b8fa73b58450b957d8421a2901baded3cca26fcf5dda"
   }
  }
 },
 "nbformat": 4,
 "nbformat_minor": 2
}
