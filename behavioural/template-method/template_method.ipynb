{
 "cells": [
  {
   "cell_type": "markdown",
   "metadata": {},
   "source": [
    "![Template Method](Template_Method.png)\n",
    "\n",
    "1. A __AbstractClass__ declara métodos que agem como etapas de um algoritmo, bem como o próprio método padrão que chama esses métodos em uma ordem específica. Os passos podem ser declarados como abstratos ou ter alguma implementação padrão.\n",
    "\n",
    "2. As __ConcreteClass__ podem sobrescrever todas as etapas, mas não o próprio método padrão."
   ]
  },
  {
   "cell_type": "code",
   "execution_count": 1,
   "metadata": {},
   "outputs": [],
   "source": [
    "from abc import ABCMeta, abstractmethod"
   ]
  },
  {
   "cell_type": "code",
   "execution_count": 2,
   "metadata": {},
   "outputs": [],
   "source": [
    "class AbstractClass(metaclass = ABCMeta):\n",
    "    \"\"\" AbstractClass \"\"\"\n",
    "    @abstractmethod\n",
    "    def operation1(self) -> None: pass\n",
    "\n",
    "    @abstractmethod\n",
    "    def operation2(self) -> None: pass\n",
    "\n",
    "    def template_method(self):\n",
    "        self.operation1()\n",
    "        self.operation2()"
   ]
  },
  {
   "cell_type": "code",
   "execution_count": 3,
   "metadata": {},
   "outputs": [],
   "source": [
    "class ConcreteClass(AbstractClass):\n",
    "    \"\"\" ConcreteClass \"\"\"\n",
    "\n",
    "    def operation1(self) -> None:\n",
    "        print('My concrete class 1')\n",
    "\n",
    "    def operation2(self) -> None:\n",
    "        print('My concrete class 2')"
   ]
  },
  {
   "cell_type": "code",
   "execution_count": 4,
   "metadata": {},
   "outputs": [],
   "source": [
    "class Client:\n",
    "    def main(self):\n",
    "        self.concrete = ConcreteClass()\n",
    "        self.concrete.template_method()"
   ]
  },
  {
   "cell_type": "code",
   "execution_count": 5,
   "metadata": {},
   "outputs": [
    {
     "name": "stdout",
     "output_type": "stream",
     "text": [
      "My concrete class 1\n",
      "My concrete class 2\n"
     ]
    }
   ],
   "source": [
    "if __name__ == \"__main__\":\n",
    "    client = Client()\n",
    "    client.main()"
   ]
  }
 ],
 "metadata": {
  "kernelspec": {
   "display_name": "Python 3.10.2 64-bit",
   "language": "python",
   "name": "python3"
  },
  "language_info": {
   "codemirror_mode": {
    "name": "ipython",
    "version": 3
   },
   "file_extension": ".py",
   "mimetype": "text/x-python",
   "name": "python",
   "nbconvert_exporter": "python",
   "pygments_lexer": "ipython3",
   "version": "3.10.2"
  },
  "orig_nbformat": 4,
  "vscode": {
   "interpreter": {
    "hash": "d3e10ef16274dd72e574b8fa73b58450b957d8421a2901baded3cca26fcf5dda"
   }
  }
 },
 "nbformat": 4,
 "nbformat_minor": 2
}
