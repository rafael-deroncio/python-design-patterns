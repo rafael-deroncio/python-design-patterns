{
 "cells": [
  {
   "cell_type": "markdown",
   "metadata": {},
   "source": [
    "![Command](Command.png)\n",
    "\n",
    "1. A classe __Invoker__ é responsável por iniciar os pedidos. Essa classe deve ter um campo para armazenar a referência para um objeto comando. O remetente aciona aquele comando ao invés de enviar o pedido diretamente para o destinatário. Observe que o remetente não é responsável por criar o objeto comando. Geralmente ele é pré criado através de um construtor do cliente.\n",
    "\n",
    "2. A interface __Command__ geralmente declara apenas um único método para executar o comando.\n",
    "\n",
    "3. __ConcreteCommand__ implementam vários tipos de pedidos. Um comando concreto não deve realizar o trabalho por conta própria, mas passar a chamada para um dos objetos da lógica do negócio. Contudo, para simplificar o código, essas classes podem ser fundidas.\n",
    "\n",
    "   Os parâmetros necessários para executar um método em um objeto destinatário podem ser declarados como campos no comando concreto. Você pode tornar os objetos comando imutáveis ao permitir que apenas inicializem esses campos através do construtor.\n",
    "\n",
    "4. A classe __Receiver__ contém a lógica do negócio. Quase qualquer objeto pode servir como um destinatário. A maioria dos comandos apenas lida com os detalhes de como um pedido é passado para o destinatário, enquanto que o destinatário em si executa o verdadeiro trabalho.\n",
    "\n",
    "5. O __Client__ cria e configura objetos comando concretos. O cliente deve passar todos os parâmetros do pedido, incluindo uma instância do destinatário, para o construtor do comando. Após isso, o comando resultante pode ser associado com um ou múltiplos destinatários."
   ]
  },
  {
   "cell_type": "code",
   "execution_count": 1,
   "metadata": {},
   "outputs": [],
   "source": [
    "from __future__ import annotations\n",
    "from abc import ABCMeta, abstractmethod"
   ]
  },
  {
   "cell_type": "code",
   "execution_count": 2,
   "metadata": {},
   "outputs": [],
   "source": [
    "class Light:\n",
    "    \"\"\" Receiver \"\"\"\n",
    "    \n",
    "    def __init__(self, name: str, room_name: str) -> None:\n",
    "        self._name = name\n",
    "        self._room_name = room_name\n",
    "        self._color = 'Default'\n",
    "        self._stage = False\n",
    "\n",
    "    def on(self) -> None:\n",
    "        if not self._stage:\n",
    "            self._stage = True\n",
    "            print(f'Ligth {self._name} in {self._room_name} is now ON')\n",
    "\n",
    "    def off(self) -> None:\n",
    "        if self._stage:\n",
    "            self._stage = False\n",
    "            print(f'Ligth {self._name} in {self._room_name} is now OFF')\n",
    "\n",
    "    def change_color(self, color) -> None:\n",
    "        self._color = color\n",
    "        print(f'Ligth {self._name} in {self._room_name} is now {self._color}')\n"
   ]
  },
  {
   "cell_type": "code",
   "execution_count": 3,
   "metadata": {},
   "outputs": [],
   "source": [
    "class ICommand(metaclass = ABCMeta):\n",
    "    \"\"\"\" ICommand \"\"\"\n",
    "    \n",
    "    @abstractmethod\n",
    "    def do(self) -> None: pass\n",
    "\n",
    "    @abstractmethod\n",
    "    def undo(self) -> None: pass"
   ]
  },
  {
   "cell_type": "code",
   "execution_count": 9,
   "metadata": {},
   "outputs": [],
   "source": [
    "class LightoOnCommand(ICommand):\n",
    "    \"\"\"\" Command \"\"\"\n",
    "\n",
    "    def __init__(self, light: Light) -> None:\n",
    "        self.light = light\n",
    "\n",
    "    def do(self) -> None:\n",
    "        self.light.on()\n",
    "\n",
    "    def undo(self) -> None:\n",
    "        self.light.off()\n",
    "\n",
    "class LightoChangeColorCommand(ICommand):\n",
    "    \"\"\"\" Command \"\"\"\n",
    "\n",
    "    def __init__(self, light: Light, color: str) -> None:\n",
    "        self.light = light\n",
    "        self.old_color = self.light._color\n",
    "        self.new_color = color\n",
    "\n",
    "    def do(self) -> None:\n",
    "        self.light.change_color(self.new_color)\n",
    "\n",
    "    def undo(self) -> None:\n",
    "        self.light.change_color(self.old_color)"
   ]
  },
  {
   "cell_type": "code",
   "execution_count": 10,
   "metadata": {},
   "outputs": [],
   "source": [
    "class RemoteController:\n",
    "    \"\"\" Invoker \"\"\"\n",
    "    \n",
    "    def __init__(self):\n",
    "        self._buttons: dict[str, ICommand] = {}\n",
    "\n",
    "    def add_button_command(self, name: str, command: ICommand) -> None:\n",
    "        if name not in self._buttons: \n",
    "            self._buttons[name] = command\n",
    "\n",
    "    def do_button_command(self, name: str) -> None:\n",
    "        if name in self._buttons:\n",
    "            self._buttons[name].do()\n",
    "\n",
    "    def undo_button_command(self, name: str) -> None:\n",
    "        if name in self._buttons:\n",
    "            self._buttons[name].undo()"
   ]
  },
  {
   "cell_type": "code",
   "execution_count": 12,
   "metadata": {},
   "outputs": [
    {
     "name": "stdout",
     "output_type": "stream",
     "text": [
      "Ligth Bedroom Light in Bedroom is now ON\n",
      "Ligth Bedroom Light in Bedroom is now OFF\n",
      "\n",
      "Ligth Bedroom Light in Bedroom is now Red\n",
      "Ligth Bedroom Light in Bedroom is now Default\n"
     ]
    }
   ],
   "source": [
    "if __name__ == \"__main__\":\n",
    "    \"\"\" CLient \"\"\"\n",
    "\n",
    "    bedroom_light = Light('Bedroom Light', 'Bedroom') # Receiver\n",
    "\n",
    "    bedroom_light_OnOff = LightoOnCommand(light=bedroom_light) # Command\n",
    "    \n",
    "    bedroom_light_Collor = LightoChangeColorCommand(light=bedroom_light, color='Red')\n",
    "\n",
    "    controller = RemoteController() # Invoker\n",
    "    \n",
    "    controller.add_button_command('Bedroom Light', bedroom_light_OnOff)\n",
    "    controller.do_button_command('Bedroom Light')\n",
    "    controller.undo_button_command('Bedroom Light')\n",
    "\n",
    "    print()\n",
    "\n",
    "    controller.add_button_command('Bedroom Light Color', bedroom_light_Collor)\n",
    "    controller.do_button_command('Bedroom Light Color')\n",
    "    controller.undo_button_command('Bedroom Light Color')"
   ]
  }
 ],
 "metadata": {
  "kernelspec": {
   "display_name": "Python 3.10.2 64-bit",
   "language": "python",
   "name": "python3"
  },
  "language_info": {
   "codemirror_mode": {
    "name": "ipython",
    "version": 3
   },
   "file_extension": ".py",
   "mimetype": "text/x-python",
   "name": "python",
   "nbconvert_exporter": "python",
   "pygments_lexer": "ipython3",
   "version": "3.10.2"
  },
  "orig_nbformat": 4,
  "vscode": {
   "interpreter": {
    "hash": "d3e10ef16274dd72e574b8fa73b58450b957d8421a2901baded3cca26fcf5dda"
   }
  }
 },
 "nbformat": 4,
 "nbformat_minor": 2
}
