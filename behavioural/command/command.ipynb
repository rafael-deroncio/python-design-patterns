{
 "cells": [
  {
   "cell_type": "markdown",
   "metadata": {},
   "source": [
    "![Command](Command.png)\n",
    "\n",
    "1. A classe __Invoker__ é responsável por iniciar os pedidos. Essa classe deve ter um campo para armazenar a referência para um objeto comando. O remetente aciona aquele comando ao invés de enviar o pedido diretamente para o destinatário. Observe que o remetente não é responsável por criar o objeto comando. Geralmente ele é pré criado através de um construtor do cliente.\n",
    "\n",
    "2. A interface __Command__ geralmente declara apenas um único método para executar o comando.\n",
    "\n",
    "3. __ConcreteCommand__ implementam vários tipos de pedidos. Um comando concreto não deve realizar o trabalho por conta própria, mas passar a chamada para um dos objetos da lógica do negócio. Contudo, para simplificar o código, essas classes podem ser fundidas.\n",
    "\n",
    "   Os parâmetros necessários para executar um método em um objeto destinatário podem ser declarados como campos no comando concreto. Você pode tornar os objetos comando imutáveis ao permitir que apenas inicializem esses campos através do construtor.\n",
    "\n",
    "4. A classe __Receiver__ contém a lógica do negócio. Quase qualquer objeto pode servir como um destinatário. A maioria dos comandos apenas lida com os detalhes de como um pedido é passado para o destinatário, enquanto que o destinatário em si executa o verdadeiro trabalho.\n",
    "\n",
    "5. O __Client__ cria e configura objetos comando concretos. O cliente deve passar todos os parâmetros do pedido, incluindo uma instância do destinatário, para o construtor do comando. Após isso, o comando resultante pode ser associado com um ou múltiplos destinatários."
   ]
  },
  {
   "cell_type": "code",
   "execution_count": null,
   "metadata": {},
   "outputs": [],
   "source": [
    "from __future__ import annotations\n",
    "from abc import ABCMeta"
   ]
  },
  {
   "cell_type": "code",
   "execution_count": null,
   "metadata": {},
   "outputs": [],
   "source": [
    "class Light:\n",
    "    \"\"\" Receiver \"\"\"\n",
    "    def __init__(self, name: str, room_name: str) -> None:\n",
    "        self._name = name\n",
    "        self._room_name = room_name\n",
    "        self._color = 'Default'\n",
    "        self._stage = False\n",
    "\n",
    "    def on(self) -> None:\n",
    "        if not self._stage:\n",
    "            self._stage = True\n",
    "            print(f'Ligth {self._name} in {self._room_name} is now ON')\n",
    "\n",
    "    def off(self) -> None:\n",
    "        if self._stage:\n",
    "            self._stage = False\n",
    "            print(f'Ligth {self._name} in {self._room_name} is now ON')\n",
    "    \n",
    "    @property\n",
    "    def name(self):\n",
    "        return self._name\n",
    "\n",
    "    @property\n",
    "    def room_name(self):\n",
    "        return self._room_name\n",
    "\n",
    "    @property\n",
    "    def stage(self):\n",
    "        return self._stage\n",
    "\n",
    "    @property\n",
    "    def color(self):\n",
    "        return self._color\n",
    "\n",
    "    @color.setter\n",
    "    def color(self, color):\n",
    "        self._color = color\n",
    "        print(f'Ligth {self._name} in {self._room_name} is now {self._color}')"
   ]
  }
 ],
 "metadata": {
  "language_info": {
   "name": "python"
  },
  "orig_nbformat": 4
 },
 "nbformat": 4,
 "nbformat_minor": 2
}
