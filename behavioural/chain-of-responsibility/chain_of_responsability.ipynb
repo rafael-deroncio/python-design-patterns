{
 "cells": [
  {
   "cell_type": "markdown",
   "metadata": {},
   "source": [
    "![Chain Of Responsability](Chain-of-Responsability.png)\n",
    "\n",
    "1. O __Handler__ declara a interface, comum a todos os handlers concretos. Ele geralmente contém apenas um único método para lidar com pedidos, mas algumas vezes ele pode conter outro método para configurar o próximo handler da corrente.\n",
    "\n",
    "2. O __BaseHandler__ é uma classe opcional onde você pode colocar o código padrão que é comum a todas as classes handler.\n",
    "\n",
    "   Geralmente, essa classe define um campo para armazenar uma referência para o próximo handler. Os clientes podem construir uma corrente passando um handler para o construtor ou setter do handler anterior. A classe pode também implementar o comportamento padrão do handler: pode passar a execução para o próximo handler após checar por sua existência.\n",
    "\n",
    "\n",
    "3. __ConcreteHandlers__ contém o código real para processar pedidos. Ao receber um pedido, cada handler deve decidir se processa ele e, adicionalmente, se passa ele adiante na corrente.\n",
    "\n",
    "   Os handlers são geralmente auto contidos e imutáveis, aceitando todos os dados necessários apenas uma vez através do construtor.\n",
    "\n",
    "4. O __Client__ pode compor correntes apenas uma vez ou compô-las dinamicamente, dependendo da lógica da aplicação. Note que um pedido pode ser enviado para qualquer handler na corrente—não precisa ser ao primeiro."
   ]
  },
  {
   "cell_type": "code",
   "execution_count": null,
   "metadata": {},
   "outputs": [],
   "source": [
    "from abc import ABCMeta, abstractmethod\n",
    "from __future__ import annotations"
   ]
  },
  {
   "cell_type": "code",
   "execution_count": null,
   "metadata": {},
   "outputs": [],
   "source": [
    "class Handler(metaclass = ABCMeta):\n",
    "    \"\"\" Handler \"\"\"\n",
    "\n",
    "    def __init__(self) -> None:\n",
    "        self.next_handler: Handler\n",
    "\n",
    "    @abstractmethod\n",
    "    def handle(self, request: str) -> str: pass "
   ]
  },
  {
   "cell_type": "code",
   "execution_count": null,
   "metadata": {},
   "outputs": [],
   "source": [
    "class BaseHandler(Handler):\n",
    "    \"\"\" Base Handler \"\"\"\n",
    "\n",
    "    def handle(self, request: str) -> str:\n",
    "        \n",
    "        self.next_handler = HandlerABC()\n",
    "\n",
    "        return self.next_handler.handle(request)"
   ]
  },
  {
   "cell_type": "code",
   "execution_count": null,
   "metadata": {},
   "outputs": [],
   "source": [
    "class HandlerABC(Handler):\n",
    "    \"\"\"Concrete Handler \"\"\"\n",
    "\n",
    "    letters = ['A', 'B', 'C']\n",
    "\n",
    "    def handle(self, request: str) -> str:\n",
    "        if request in HandlerABC.letters:\n",
    "            return f'The request was successfully handled in {self.__class__.__name__}'\n",
    "        \n",
    "        self.next_handler = HandlerDEF()\n",
    "        \n",
    "        return self.next_handler.handle(request)\n",
    "\n",
    "\n",
    "class HandlerDEF(Handler):\n",
    "    \"\"\"Concrete Handler \"\"\"\n",
    "\n",
    "    letters = ['D', 'E', 'F']\n",
    "\n",
    "    def handle(self, request: str) -> str:\n",
    "        if request in HandlerDEF.letters:\n",
    "            return f'The request was successfully handled in {self.__class__.__name__}'\n",
    "        \n",
    "        self.next_handler = HandlerGHI()\n",
    "        \n",
    "        return self.next_handler.handle(request)\n",
    "\n",
    "\n",
    "class HandlerGHI(Handler):\n",
    "    \"\"\"Concrete Handler \"\"\"\n",
    "\n",
    "    letters = ['G', 'H', 'I']\n",
    "\n",
    "    def handle(self, request: str) -> str:\n",
    "        if request in HandlerGHI.letters:\n",
    "            return f'The request was successfully handled in {self.__class__.__name__}'\n",
    "        \n",
    "        self.next_handler = HandlerUnsolved()\n",
    "        \n",
    "        return self.next_handler.handle(request)\n",
    "\n",
    "class HandlerUnsolved(Handler):\n",
    "    \"\"\"Concrete Handler \"\"\"\n",
    "\n",
    "    def handle(self, request: str) -> str:\n",
    "        raise TypeError(f'It was not possible to handle the request for {request}')"
   ]
  },
  {
   "cell_type": "code",
   "execution_count": null,
   "metadata": {},
   "outputs": [],
   "source": [
    "if __name__ == \"__main__\":\n",
    "    \n",
    "    request = 'C'\n",
    "\n",
    "    handle = BaseHandler().handle(request)\n",
    "    \n",
    "    print(handle)"
   ]
  }
 ],
 "metadata": {
  "kernelspec": {
   "display_name": "Python 3.10.2 64-bit",
   "language": "python",
   "name": "python3"
  },
  "language_info": {
   "codemirror_mode": {
    "name": "ipython",
    "version": 3
   },
   "file_extension": ".py",
   "mimetype": "text/x-python",
   "name": "python",
   "nbconvert_exporter": "python",
   "pygments_lexer": "ipython3",
   "version": "3.10.2"
  },
  "orig_nbformat": 4,
  "vscode": {
   "interpreter": {
    "hash": "d3e10ef16274dd72e574b8fa73b58450b957d8421a2901baded3cca26fcf5dda"
   }
  }
 },
 "nbformat": 4,
 "nbformat_minor": 2
}
