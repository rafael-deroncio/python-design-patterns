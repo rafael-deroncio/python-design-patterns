{
 "cells": [
  {
   "cell_type": "markdown",
   "metadata": {},
   "source": [
    "![Iterator](iterator.png)\n",
    "\n",
    "1. A interface __Iterator__ declara as operações necessárias para percorrer uma coleção: buscar o próximo elemento, pegar a posição atual, recomeçar a iteração, etc.\n",
    "\n",
    "2. __ConcreteIterator__ implementam algoritmos específicos para percorrer uma coleção. O objeto iterador deve monitorar o progresso da travessia por conta própria. Isso permite que diversos iteradores percorram a mesma coleção independentemente de cada um.\n",
    "\n",
    "3. A interface __Iterable__ declara um ou mais métodos para obter os iteradores compatíveis com a coleção. Observe que o tipo do retorno dos métodos deve ser declarado como a interface do iterador para que as coleções concretas possam retornar vários tipos de iteradores.\n",
    "\n",
    "4. __ConcreteIterable__ retornam novas instâncias de uma classe iterador concreta em particular cada vez que o cliente pede por uma. Você pode estar se perguntando, onde está o resto do código da coleção? Não se preocupe, ele deve ficar na mesma classe. É que esses detalhes não são cruciais para o padrão atual, então optamos por omiti-los.\n",
    "\n",
    "5. O __Client__ trabalha tanto com as coleções como os iteradores através de suas interfaces. Dessa forma o cliente não fica acoplado a suas classes concretas, permitindo que você use várias coleções e iteradores com o mesmo código cliente.\n",
    "\n",
    "   Tipicamente, os clientes não criam iteradores por conta própria, mas ao invés disso os obtêm das coleções. Ainda assim, em certos casos, o cliente pode criar um diretamente; por exemplo, quando o cliente define seu próprio iterador especial."
   ]
  },
  {
   "cell_type": "markdown",
   "metadata": {},
   "source": [
    "- __Iterator__: Objeto que vai iterar sob uma coleção/objeto agregado/iterador.\n",
    "\n",
    "- __Iterable__: Objeto que pode ser iterado."
   ]
  },
  {
   "cell_type": "code",
   "execution_count": 1,
   "metadata": {},
   "outputs": [
    {
     "data": {
      "text/plain": [
       "' Com o collections.abc, temos acesso \\nas interfaces de Iterator e Iterable '"
      ]
     },
     "execution_count": 1,
     "metadata": {},
     "output_type": "execute_result"
    }
   ],
   "source": [
    "from __future__ import annotations\n",
    "from collections.abc import Iterator, Iterable\n",
    "from typing import List, Any\n",
    "\"\"\" Com o collections.abc, temos acesso \n",
    "as interfaces de Iterator e Iterable \"\"\""
   ]
  },
  {
   "cell_type": "code",
   "execution_count": 2,
   "metadata": {},
   "outputs": [],
   "source": [
    "class ConcreteIterator(Iterator):\n",
    "\n",
    "    def __init__(self, collection: ConcreteIterable, reverse: bool = False) -> None:\n",
    "        self._collection = collection\n",
    "        self._reverse = reverse\n",
    "        self._position = -1 if reverse else 0\n",
    "    \n",
    "    def __next__(self) -> None:\n",
    "        try:\n",
    "            value = self._collection[self._position]\n",
    "            self._position += -1 if self._reverse else 1\n",
    "            return value\n",
    "            \n",
    "        except IndexError:\n",
    "            raise StopIteration()     "
   ]
  },
  {
   "cell_type": "code",
   "execution_count": 3,
   "metadata": {},
   "outputs": [],
   "source": [
    "class ConcreteIterable(Iterable):\n",
    "    \n",
    "    def __init__(self, collection: List[Any] = []) -> None:\n",
    "        self._collection = collection\n",
    "\n",
    "    def __iter__(self) -> ConcreteIterator:\n",
    "        return ConcreteIterator(self._collection)\n",
    "\n",
    "    def get_reverse(self) -> ConcreteIterator:\n",
    "        return ConcreteIterator(self._collection, True)\n",
    "\n",
    "    def add_item(self, item: Any) -> None:\n",
    "        self._collection.append(item)\n",
    "\n",
    "    def __repr__ (self):\n",
    "        value = f', '.join(self._collection)\n",
    "        return f'{self.__class__.__name__}: {value}'"
   ]
  },
  {
   "cell_type": "code",
   "execution_count": 4,
   "metadata": {},
   "outputs": [
    {
     "name": "stdout",
     "output_type": "stream",
     "text": [
      "First, Second, Third\n",
      "\n",
      "Third, Second, First\n"
     ]
    }
   ],
   "source": [
    "if __name__ == '__main__':\n",
    "  \n",
    "  #iterator = ConcreteIterator()\n",
    "\n",
    "  iterable = ConcreteIterable()\n",
    "  iterable.add_item('First')\n",
    "  iterable.add_item('Second')\n",
    "  iterable.add_item('Third')\n",
    "  \n",
    "\n",
    "  print(', '.join(iterable))\n",
    "\n",
    "  print()\n",
    "\n",
    "  print(', '.join(iterable.get_reverse()))"
   ]
  }
 ],
 "metadata": {
  "kernelspec": {
   "display_name": "Python 3.10.2 64-bit",
   "language": "python",
   "name": "python3"
  },
  "language_info": {
   "codemirror_mode": {
    "name": "ipython",
    "version": 3
   },
   "file_extension": ".py",
   "mimetype": "text/x-python",
   "name": "python",
   "nbconvert_exporter": "python",
   "pygments_lexer": "ipython3",
   "version": "3.10.2"
  },
  "orig_nbformat": 4,
  "vscode": {
   "interpreter": {
    "hash": "d3e10ef16274dd72e574b8fa73b58450b957d8421a2901baded3cca26fcf5dda"
   }
  }
 },
 "nbformat": 4,
 "nbformat_minor": 2
}
