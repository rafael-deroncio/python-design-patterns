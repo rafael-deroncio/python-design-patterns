{
 "cells": [
  {
   "cell_type": "markdown",
   "metadata": {},
   "source": [
    "![Mediator](mediator.png)\n",
    "\n",
    "1. __Component__ são várias classes que contém alguma lógica de negócio. Cada componente tem uma referência a um mediador, declarada com o tipo de interface do mediador. O componente não está ciente da classe atual do mediador, então você pode reutilizar o componente em outros programas ao ligá-lo com um mediador diferente.\n",
    "\n",
    "2. A interface __Mediator__ declara métodos de comunicação com os componentes, os quais geralmente incluem apenas um método de notificação. Os componentes podem passar qualquer contexto como argumentos desse método, incluindo seus próprios objetos, mas apenas de tal forma que nenhum acoplamento ocorra entre um componente destinatário e a classe remetente.\n",
    "\n",
    "3. __ConcreteMediator__ encapsula as relações entre vários componentes. Os mediadores concretos quase sempre mantém referências de todos os componentes os quais gerenciam e, algumas vezes, até gerenciam o ciclo de vida deles.\n",
    "\n",
    "4. Componentes não devem estar cientes de outros componentes. Se algo importante acontece dentro ou para um componente, ele deve apenas notificar o mediador. Quando o mediador recebe a notificação, ele pode facilmente identificar o remetente, o que é suficiente para decidir que componente deve ser acionado em retorno.\n",
    "\n",
    "   Da perspectiva de um componente, tudo parece como uma caixa preta. O remetente não sabe quem vai acabar lidando com o seu pedido, e o destinatário não sabe quem enviou o pedido em primeiro lugar."
   ]
  },
  {
   "cell_type": "code",
   "execution_count": 43,
   "metadata": {},
   "outputs": [],
   "source": [
    "from abc import ABCMeta, abstractmethod\n",
    "from __future__ import annotations"
   ]
  },
  {
   "cell_type": "code",
   "execution_count": 44,
   "metadata": {},
   "outputs": [],
   "source": [
    "class Mediator(metaclass = ABCMeta):\n",
    "\n",
    "    @abstractmethod\n",
    "    def notify(self, sender: object, event: str) -> None: pass"
   ]
  },
  {
   "cell_type": "code",
   "execution_count": 45,
   "metadata": {},
   "outputs": [],
   "source": [
    "class ConcreteMediator(Mediator):\n",
    "    def __init__(self, component1: Component1, component2: Component2) -> None:\n",
    "        self._component1 = component1\n",
    "        self._component1.mediator = self\n",
    "        \n",
    "        self._component2 = component2\n",
    "        self._component2.mediator = self\n",
    "\n",
    "    def notify(self, sender: object, event: str) -> None:\n",
    "        if event == \"A\":\n",
    "            print(\"Mediator reacts on A and triggers following operations:\")\n",
    "            self._component2.do_c()\n",
    "        elif event == \"D\":\n",
    "            print(\"Mediator reacts on D and triggers following operations:\")\n",
    "            self._component1.do_b()\n",
    "            self._component2.do_c()"
   ]
  },
  {
   "cell_type": "code",
   "execution_count": 46,
   "metadata": {},
   "outputs": [],
   "source": [
    "class BaseComponent:\n",
    "\n",
    "    def __init__(self, mediator: Mediator = None) -> None:\n",
    "        self._mediator = mediator\n",
    "\n",
    "    @property\n",
    "    def mediator(self) -> Mediator:\n",
    "        return self._mediator\n",
    "\n",
    "    @mediator.setter\n",
    "    def mediator(self, mediator: Mediator) -> None:\n",
    "        self._mediator = mediator"
   ]
  },
  {
   "cell_type": "code",
   "execution_count": 47,
   "metadata": {},
   "outputs": [],
   "source": [
    "class Component1(BaseComponent):\n",
    "    def do_a(self) -> None:\n",
    "        print(\"Component 1 does A.\")\n",
    "        self.mediator.notify(self, \"A\")\n",
    "\n",
    "    def do_b(self) -> None:\n",
    "        print(\"Component 1 does B.\")\n",
    "        self.mediator.notify(self, \"B\")\n",
    "\n",
    "\n",
    "class Component2(BaseComponent):\n",
    "    def do_c(self) -> None:\n",
    "        print(\"Component 2 does C.\")\n",
    "        self.mediator.notify(self, \"C\")\n",
    "\n",
    "    def do_d(self) -> None:\n",
    "        print(\"Component 2 does D.\")\n",
    "        self.mediator.notify(self, \"D\")"
   ]
  },
  {
   "cell_type": "code",
   "execution_count": 48,
   "metadata": {},
   "outputs": [
    {
     "name": "stdout",
     "output_type": "stream",
     "text": [
      "Client triggers operation A and B.\n",
      "Component 1 does A.\n",
      "Mediator reacts on A and triggers following operations:\n",
      "Component 2 does C.\n",
      "Component 1 does B.\n",
      "\n",
      "Client triggers operation C and D.\n",
      "Component 2 does C.\n",
      "Component 2 does D.\n",
      "Mediator reacts on D and triggers following operations:\n",
      "Component 1 does B.\n",
      "Component 2 does C.\n"
     ]
    }
   ],
   "source": [
    "if __name__ == \"__main__\":\n",
    "\n",
    "    c1 = Component1()\n",
    "    c2 = Component2()\n",
    "    mediator = ConcreteMediator(c1, c2)\n",
    "\n",
    "    print(\"Client triggers operation A and B.\")\n",
    "    c1.do_a()\n",
    "    c1.do_b()\n",
    "\n",
    "    print()\n",
    "\n",
    "    print(\"Client triggers operation C and D.\")\n",
    "    c2.do_c()\n",
    "    c2.do_d()"
   ]
  }
 ],
 "metadata": {
  "kernelspec": {
   "display_name": "Python 3.10.2 64-bit",
   "language": "python",
   "name": "python3"
  },
  "language_info": {
   "codemirror_mode": {
    "name": "ipython",
    "version": 3
   },
   "file_extension": ".py",
   "mimetype": "text/x-python",
   "name": "python",
   "nbconvert_exporter": "python",
   "pygments_lexer": "ipython3",
   "version": "3.10.2"
  },
  "orig_nbformat": 4,
  "vscode": {
   "interpreter": {
    "hash": "d3e10ef16274dd72e574b8fa73b58450b957d8421a2901baded3cca26fcf5dda"
   }
  }
 },
 "nbformat": 4,
 "nbformat_minor": 2
}
