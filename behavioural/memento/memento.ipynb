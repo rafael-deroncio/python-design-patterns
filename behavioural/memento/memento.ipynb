{
 "cells": [
  {
   "cell_type": "markdown",
   "metadata": {},
   "source": [
    "#### Implementação baseada em uma interface intermediária:\n",
    "\n",
    "![Memento](Memento.png)\n",
    "\n",
    "1. A classe __Originator__ pode produzir retratos de seu próprio estado, bem como restaurar seu estado de retratos quando necessário.\n",
    "   _Cria e restaura o estado._\n",
    "\n",
    "2. O __Memento__ é um objeto de valor que age como um retrato do estado da originadora. É uma prática comum fazer o memento imutável e passar os dados para ele apenas uma vez, através do construtor.\n",
    "   _Armazena a cópia do estado do Originator_\n",
    "\n",
    "3. A __Caretaker__ sabe não só “quando” e “por quê” capturar o estado da originadora, mas também quando o estado deve ser restaurado.\n",
    "   \n",
    "   Uma cuidadora pode manter registros do histórico da originadora armazenando os mementos em um pilha. Quando a originadora precisa voltar atrás no histórico, a cuidadora busca o memento mais do topo da pilha e o passa para o método de restauração da originadora."
   ]
  },
  {
   "cell_type": "code",
   "execution_count": 19,
   "metadata": {},
   "outputs": [],
   "source": [
    "from __future__ import annotations\n",
    "from copy import deepcopy"
   ]
  },
  {
   "cell_type": "code",
   "execution_count": 20,
   "metadata": {},
   "outputs": [],
   "source": [
    "class Memento:\n",
    "\n",
    "    \"\"\" Memento \"\"\"\n",
    "\n",
    "    def __init__(self, state: dict) -> None:\n",
    "        self._state: dict\n",
    "        \n",
    "        # Passagem de dados através do construtor\n",
    "        object.__setattr__(self, '_state', state) \n",
    "\n",
    "    def get_state(self) -> dict:\n",
    "        return self._state\n",
    "    \n",
    "    def __setattr__(self, name, value):\n",
    "        \"\"\"\n",
    "        É uma prática comum fazer o memento imutável e passar os \n",
    "        dados para ele apenas uma vez, através do construtor.\n",
    "        \"\"\"\n",
    "        raise AttributeError('Sorry, I am Immutable!')"
   ]
  },
  {
   "cell_type": "code",
   "execution_count": 21,
   "metadata": {},
   "outputs": [],
   "source": [
    "class ImageEditor:\n",
    "\n",
    "    \"\"\" Originator \"\"\"\n",
    "\n",
    "    def __init__(self, name: str, width: int, height: int) -> None:\n",
    "        self.name = name\n",
    "        self.width = width\n",
    "        self.height = height\n",
    "\n",
    "    def save_state(self) -> Memento:\n",
    "        return Memento(deepcopy(self.__dict__)) \n",
    "\n",
    "    def restore(self, memento: Memento) -> None:\n",
    "         self.__dict__ = memento.get_state()\n",
    "\n",
    "    def __str__(self) -> str:\n",
    "        return f'{self.__class__.__name__}: ({self.__dict__})'"
   ]
  },
  {
   "cell_type": "code",
   "execution_count": 22,
   "metadata": {},
   "outputs": [],
   "source": [
    "class Caretaker:\n",
    "\n",
    "    \"\"\" Caretaker \"\"\"\n",
    "\n",
    "    def __init__(self, originator: ImageEditor):\n",
    "        self._originator = originator\n",
    "        self._mementos: list[Memento] = []\n",
    "\n",
    "    def backup(self) -> None:\n",
    "        self._mementos.append(self._originator.save_state())\n",
    "\n",
    "    def restore(self) -> None:\n",
    "        if not self._mementos:\n",
    "            return\n",
    "        \n",
    "        self._originator.restore(self._mementos.pop())"
   ]
  },
  {
   "cell_type": "code",
   "execution_count": 27,
   "metadata": {},
   "outputs": [
    {
     "name": "stdout",
     "output_type": "stream",
     "text": [
      "\n",
      "generating backup:\n",
      "ImageEditor: ({'name': 'Image1.jpg', 'width': 600, 'height': 300})\n",
      "ImageEditor: ({'name': 'Image2.jpg', 'width': 200, 'height': 400})\n",
      "ImageEditor: ({'name': 'Image3.jpg', 'width': 50, 'height': 100})\n",
      "ImageEditor: ({'name': 'Image4.jpg', 'width': 500, 'height': 150})\n",
      "\n",
      "restoring backups:\n",
      "ImageEditor: ({'name': 'Image4.jpg', 'width': 500, 'height': 150})\n",
      "ImageEditor: ({'name': 'Image3.jpg', 'width': 50, 'height': 100})\n",
      "ImageEditor: ({'name': 'Image2.jpg', 'width': 200, 'height': 400})\n",
      "ImageEditor: ({'name': 'Image1.jpg', 'width': 600, 'height': 300})\n"
     ]
    }
   ],
   "source": [
    "if __name__ == \"__main__\":\n",
    "\n",
    "    img = ImageEditor('Image1.jpg', 600, 300)\n",
    "\n",
    "    caretaker = Caretaker(img)\n",
    "\n",
    "    # Backups\n",
    "    print('\\ngenerating backup:')\n",
    "    \n",
    "    caretaker.backup()\n",
    "    print(img)\n",
    "\n",
    "    img.name = 'Image2.jpg'\n",
    "    img.height = 400\n",
    "    img.width = 200\n",
    "    caretaker.backup()\n",
    "    print(img)\n",
    "\n",
    "    img.name = 'Image3.jpg'\n",
    "    img.height = 100\n",
    "    img.width = 50\n",
    "    caretaker.backup()\n",
    "    print(img)\n",
    "\n",
    "    img.name = 'Image4.jpg'\n",
    "    img.height = 150\n",
    "    img.width = 500\n",
    "    caretaker.backup()\n",
    "    print(img)\n",
    "\n",
    "    # restores\n",
    "    print('\\nrestoring backups:')\n",
    "\n",
    "    caretaker.restore()\n",
    "    print(img)\n",
    "\n",
    "    caretaker.restore()\n",
    "    print(img)\n",
    "\n",
    "    caretaker.restore()\n",
    "    print(img)\n",
    "\n",
    "    caretaker.restore()\n",
    "    print(img)"
   ]
  }
 ],
 "metadata": {
  "kernelspec": {
   "display_name": "Python 3.10.2 64-bit",
   "language": "python",
   "name": "python3"
  },
  "language_info": {
   "codemirror_mode": {
    "name": "ipython",
    "version": 3
   },
   "file_extension": ".py",
   "mimetype": "text/x-python",
   "name": "python",
   "nbconvert_exporter": "python",
   "pygments_lexer": "ipython3",
   "version": "3.10.2"
  },
  "orig_nbformat": 4,
  "vscode": {
   "interpreter": {
    "hash": "d3e10ef16274dd72e574b8fa73b58450b957d8421a2901baded3cca26fcf5dda"
   }
  }
 },
 "nbformat": 4,
 "nbformat_minor": 2
}
