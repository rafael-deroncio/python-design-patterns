{
 "cells": [
  {
   "cell_type": "markdown",
   "metadata": {},
   "source": [
    "![Visitor](Visitor.png)\n",
    "\n",
    "1. A interface __Visitor__ declara um conjunto de métodos visitantes que podem receber elementos concretos de uma estrutura de objetos como argumentos. Esses métodos podem ter os mesmos nomes se o programa é escrito em uma linguagem que suporta sobrecarregamento, mas o tipo dos parâmetros devem ser diferentes.\n",
    "\n",
    "2. Cada __ConcreteVisitor__ implementa diversas versões do mesmo comportamento, feitos sob medida para diferentes elementos concretos de classes.\n",
    "\n",
    "3. A interface __Element__ declara um método para “aceitar” visitantes. Esse método deve ter um parâmetro declarado com o tipo da interface do visitante.\n",
    "\n",
    "4. Cada __ConcreteElement__ deve implementar o método de aceitação. O propósito desse método é redirecionar a chamada para o método visitante apropriado que corresponde com a atual classe elemento. Esteja atento que mesmo se uma classe elemento base implemente esse método, todas as subclasses deve ainda sobrescrever esse método em suas próprias classes e chamar o método apropriado no objeto visitante.\n",
    "\n",
    "5. O __Client__ geralmente representa uma coleção de outros objetos complexos (por exemplo, uma árvore Composite). Geralmente, os clientes não estão cientes de todos as classes elemento concretas porque eles trabalham com objetos daquele coleção através de uma interface abstrata."
   ]
  },
  {
   "cell_type": "code",
   "execution_count": 20,
   "metadata": {},
   "outputs": [],
   "source": [
    "from __future__ import annotations\n",
    "from abc import ABCMeta, abstractmethod"
   ]
  },
  {
   "cell_type": "code",
   "execution_count": 21,
   "metadata": {},
   "outputs": [],
   "source": [
    "class Component(metaclass = ABCMeta):\n",
    "\n",
    "    @abstractmethod\n",
    "    def accept(self, visitor: Visitor) -> None: pass     "
   ]
  },
  {
   "cell_type": "code",
   "execution_count": 22,
   "metadata": {},
   "outputs": [],
   "source": [
    "class ConcreteComponentA(Component):\n",
    "\n",
    "    def accept(self, visitor: Visitor) -> None: \n",
    "        visitor.visit_concrete_component_a(self)\n",
    "\n",
    "    def exclusive_method_of_concrete_component_a(self) -> str:\n",
    "        return 'A'\n",
    "\n",
    "class ConcreteComponentB(Component):\n",
    "\n",
    "    def accept(self, visitor: Visitor) -> None: \n",
    "        visitor.visit_concrete_component_b(self)\n",
    "\n",
    "    def special_method_of_concrete_component_b(self) -> str:\n",
    "        return 'B'"
   ]
  },
  {
   "cell_type": "code",
   "execution_count": 23,
   "metadata": {},
   "outputs": [],
   "source": [
    "class Visitor(metaclass = ABCMeta):\n",
    "\n",
    "    @abstractmethod\n",
    "    def visit_concrete_component_a(self, element: ConcreteComponentA) -> None: pass\n",
    "\n",
    "    @abstractmethod\n",
    "    def visit_concrete_component_b(self, element: ConcreteComponentB) -> None: pass"
   ]
  },
  {
   "cell_type": "code",
   "execution_count": 24,
   "metadata": {},
   "outputs": [],
   "source": [
    "class ConcreteVisitor1(Visitor):\n",
    "    def visit_concrete_component_a(self, element) -> None:\n",
    "        print(f\"{element.exclusive_method_of_concrete_component_a()} + ConcreteVisitor1\")\n",
    "\n",
    "    def visit_concrete_component_b(self, element) -> None:\n",
    "        print(f\"{element.special_method_of_concrete_component_b()} + ConcreteVisitor1\")\n",
    "\n",
    "\n",
    "class ConcreteVisitor2(Visitor):\n",
    "    def visit_concrete_component_a(self, element) -> None:\n",
    "        print(f\"{element.exclusive_method_of_concrete_component_a()} + ConcreteVisitor2\")\n",
    "\n",
    "    def visit_concrete_component_b(self, element) -> None:\n",
    "        print(f\"{element.special_method_of_concrete_component_b()} + ConcreteVisitor2\")"
   ]
  },
  {
   "cell_type": "code",
   "execution_count": 25,
   "metadata": {},
   "outputs": [],
   "source": [
    "def client_code(components: list[Component], visitor: Visitor) -> None:\n",
    "\n",
    "    for component in components:\n",
    "        component.accept(visitor)"
   ]
  },
  {
   "cell_type": "code",
   "execution_count": 27,
   "metadata": {},
   "outputs": [
    {
     "name": "stdout",
     "output_type": "stream",
     "text": [
      "The client code works with all visitors via the base Visitor interface:\n",
      "A + ConcreteVisitor1\n",
      "B + ConcreteVisitor1\n",
      "\n",
      "It allows the same client code to work with different types of visitors:\n",
      "A + ConcreteVisitor2\n",
      "B + ConcreteVisitor2\n"
     ]
    }
   ],
   "source": [
    "if __name__ == \"__main__\":\n",
    "    components = [ConcreteComponentA(), ConcreteComponentB()]\n",
    "\n",
    "    print(\"The client code works with all visitors via the base Visitor interface:\")\n",
    "    visitor1 = ConcreteVisitor1()\n",
    "    client_code(components, visitor1)\n",
    "\n",
    "    print()\n",
    "\n",
    "    print(\"It allows the same client code to work with different types of visitors:\")\n",
    "    visitor2 = ConcreteVisitor2()\n",
    "    client_code(components, visitor2)"
   ]
  }
 ],
 "metadata": {
  "kernelspec": {
   "display_name": "Python 3.10.2 64-bit",
   "language": "python",
   "name": "python3"
  },
  "language_info": {
   "codemirror_mode": {
    "name": "ipython",
    "version": 3
   },
   "file_extension": ".py",
   "mimetype": "text/x-python",
   "name": "python",
   "nbconvert_exporter": "python",
   "pygments_lexer": "ipython3",
   "version": "3.10.2"
  },
  "orig_nbformat": 4,
  "vscode": {
   "interpreter": {
    "hash": "d3e10ef16274dd72e574b8fa73b58450b957d8421a2901baded3cca26fcf5dda"
   }
  }
 },
 "nbformat": 4,
 "nbformat_minor": 2
}
