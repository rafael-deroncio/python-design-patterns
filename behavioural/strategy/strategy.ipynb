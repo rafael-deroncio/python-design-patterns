{
 "cells": [
  {
   "cell_type": "markdown",
   "metadata": {},
   "source": [
    "![Strategy](Strategy.png)\n",
    "\n",
    "1. O __Context__ mantém uma referência para uma das estratégias concretas e se comunica com esse objeto através da interface da estratégia.\n",
    "\n",
    "2. A interface __Strategy__ é comum à todas as estratégias concretas. Ela declara um método que o contexto usa para executar uma estratégia.\n",
    "\n",
    "3. __ConcreteStrategy__ implementam diferentes variações de um algoritmo que o contexto usa.\n",
    "\n",
    "4. O Context chama o método de execução no objeto estratégia ligado cada vez que ele precisa rodar um algoritmo. O contexto não sabe qual tipo de estratégia ele está trabalhando ou como o algoritmo é executado.\n",
    "\n",
    "5. O Cliente cria um objeto estratégia específico e passa ele para o contexto. O contexto expõe um setter que permite o cliente mudar a estratégia associada com contexto durante a execução.\n"
   ]
  },
  {
   "cell_type": "code",
   "execution_count": 8,
   "metadata": {},
   "outputs": [],
   "source": [
    "from abc import ABCMeta, abstractmethod\n",
    "from __future__ import annotations"
   ]
  },
  {
   "cell_type": "code",
   "execution_count": 9,
   "metadata": {},
   "outputs": [],
   "source": [
    "class Order:\n",
    "\n",
    "    \"\"\" Context \"\"\"\n",
    "\n",
    "    def __init__(self, total: float, discount: DiscuntStrategy) -> None:\n",
    "        self._total = total\n",
    "        self._discount = discount\n",
    "\n",
    "    @property\n",
    "    def total(self):\n",
    "        return self._total\n",
    "\n",
    "    @property\n",
    "    def total_with_discount(self):\n",
    "        return self._discount.calculate(self._total)"
   ]
  },
  {
   "cell_type": "code",
   "execution_count": 10,
   "metadata": {},
   "outputs": [],
   "source": [
    "class DiscountStrategy(metaclass = ABCMeta):\n",
    "\n",
    "    \"\"\" Strategy \"\"\"\n",
    "\n",
    "    @abstractmethod\n",
    "    def calculate(self) -> float: pass"
   ]
  },
  {
   "cell_type": "code",
   "execution_count": 14,
   "metadata": {},
   "outputs": [],
   "source": [
    "class NoPercentStrategy(DiscountStrategy):\n",
    "\n",
    "    \"\"\" Concrete Strategy \"\"\"\n",
    "    def calculate(self, value) -> float:\n",
    "        return value\n",
    "\n",
    "class TwentyPercentStrategy(DiscountStrategy):\n",
    "\n",
    "    \"\"\" Concrete Strategy \"\"\"\n",
    "    def calculate(self, value) -> float:\n",
    "        return value - (value * 0.2)\n",
    "\n",
    "class ThirtyPercentStrategy(DiscountStrategy):\n",
    "\n",
    "    \"\"\" Concrete Strategy \"\"\"\n",
    "    def calculate(self, value) -> float:\n",
    "        return value - (value * 0.3)\n",
    "\n",
    "class FortycentStrategy(DiscountStrategy):\n",
    "\n",
    "    \"\"\" Concrete Strategy \"\"\"\n",
    "    def calculate(self, value) -> float:\n",
    "        return value - (value * 0.4)\n",
    "\n",
    "class FiftyPercentStrategy(DiscountStrategy):\n",
    "\n",
    "    \"\"\" Concrete Strategy \"\"\"\n",
    "    def calculate(self, value) -> float:\n",
    "        return value - (value * 0.5)\n",
    "\n",
    "class CustomPercentStrategy(DiscountStrategy):\n",
    "    def __init__(self, discount: float) -> None:\n",
    "        self._discount = discount\n",
    "\n",
    "    \"\"\" Concrete Strategy \"\"\"\n",
    "    def calculate(self, value) -> float:\n",
    "        return value - (value / self._discount)"
   ]
  },
  {
   "cell_type": "code",
   "execution_count": 15,
   "metadata": {},
   "outputs": [
    {
     "name": "stdout",
     "output_type": "stream",
     "text": [
      "1000 1000 \n",
      "\n",
      "1000 800.0 \n",
      "\n",
      "1000 700.0 \n",
      "\n",
      "1000 600.0 \n",
      "\n",
      "1000 500.0 \n",
      "\n",
      "1000 933.3333333333334 \n",
      "\n"
     ]
    }
   ],
   "source": [
    "if __name__ == \"__main__\":\n",
    "\n",
    "    no_discount = NoPercentStrategy()\n",
    "    discount20 = TwentyPercentStrategy()\n",
    "    discount30 = ThirtyPercentStrategy()\n",
    "    discount40 = FortycentStrategy()\n",
    "    discount50 = FiftyPercentStrategy()\n",
    "    custom_discount = CustomPercentStrategy(15)\n",
    "\n",
    "    pedido = Order(1000, no_discount)\n",
    "    print(pedido.total, pedido.total_with_discount, '\\n')\n",
    "\n",
    "    pedido1 = Order(1000, discount20)\n",
    "    print(pedido1.total, pedido1.total_with_discount, '\\n')\n",
    "\n",
    "    pedido2 = Order(1000, discount30)\n",
    "    print(pedido2.total, pedido2.total_with_discount, '\\n')\n",
    "\n",
    "    pedido4 = Order(1000, discount40)\n",
    "    print(pedido4.total, pedido4.total_with_discount, '\\n')\n",
    "\n",
    "    pedido5 = Order(1000, discount50)\n",
    "    print(pedido5.total, pedido5.total_with_discount, '\\n')\n",
    "    \n",
    "    pedido6 = Order(1000, custom_discount)\n",
    "    print(pedido6.total, pedido6.total_with_discount, '\\n')"
   ]
  }
 ],
 "metadata": {
  "kernelspec": {
   "display_name": "Python 3.10.2 64-bit",
   "language": "python",
   "name": "python3"
  },
  "language_info": {
   "codemirror_mode": {
    "name": "ipython",
    "version": 3
   },
   "file_extension": ".py",
   "mimetype": "text/x-python",
   "name": "python",
   "nbconvert_exporter": "python",
   "pygments_lexer": "ipython3",
   "version": "3.10.2"
  },
  "orig_nbformat": 4,
  "vscode": {
   "interpreter": {
    "hash": "d3e10ef16274dd72e574b8fa73b58450b957d8421a2901baded3cca26fcf5dda"
   }
  }
 },
 "nbformat": 4,
 "nbformat_minor": 2
}
