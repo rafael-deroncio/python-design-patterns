{
 "cells": [
  {
   "cell_type": "markdown",
   "metadata": {},
   "source": [
    "![Strategy](Strategy.png)\n",
    "\n",
    "1. O __Context__ mantém uma referência para uma das estratégias concretas e se comunica com esse objeto através da interface da estratégia.\n",
    "\n",
    "2. A interface __Strategy__ é comum à todas as estratégias concretas. Ela declara um método que o contexto usa para executar uma estratégia.\n",
    "\n",
    "3. __ConcreteStrategy__ implementam diferentes variações de um algoritmo que o contexto usa.\n",
    "\n",
    "4. O Context chama o método de execução no objeto estratégia ligado cada vez que ele precisa rodar um algoritmo. O contexto não sabe qual tipo de estratégia ele está trabalhando ou como o algoritmo é executado.\n",
    "\n",
    "5. O Cliente cria um objeto estratégia específico e passa ele para o contexto. O contexto expõe um setter que permite o cliente mudar a estratégia associada com contexto durante a execução.\n"
   ]
  },
  {
   "cell_type": "code",
   "execution_count": null,
   "metadata": {},
   "outputs": [],
   "source": []
  }
 ],
 "metadata": {
  "language_info": {
   "name": "python"
  },
  "orig_nbformat": 4
 },
 "nbformat": 4,
 "nbformat_minor": 2
}
