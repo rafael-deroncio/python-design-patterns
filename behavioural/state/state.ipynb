{
 "cells": [
  {
   "cell_type": "markdown",
   "metadata": {},
   "source": [
    "![State](State.png)\n",
    "\n",
    "1. O __Context__ armazena uma referência a um dos objetos concretos de estado e delega a eles todos os trabalhos específicos de estado. O contexto se comunica com o objeto estado através da interface do estado. O contexto expõe um setter para passar a ele um novo objeto de estado.\n",
    "\n",
    "2. A interface do __State__ declara métodos específicos a estados. Esses métodos devem fazer sentido para todos os estados concretos porque você não quer alguns dos seus estados tendo métodos inúteis que nunca irão ser chamados.\n",
    "\n",
    "3. Os __ConcreteState__ fornecem suas próprias implementações para os métodos específicos de estados. Para evitar duplicação ou código parecido em múltiplos estados, você pode fornecer classes abstratas intermediárias que encapsulam alguns dos comportamentos comuns.\n",
    "\n",
    "   Objetos de estado podem armazenar referências retroativas para o objeto de contexto. Através dessa referência o estado pode buscar qualquer informação desejada do objeto contexto, assim como iniciar transições de estado.\n",
    "\n",
    "Ambos os estados de contexto e concretos podem configurar o próximo estado do contexto e realizar a atual transição de estado ao substituir o objeto estado ligado ao contexto."
   ]
  },
  {
   "cell_type": "code",
   "execution_count": 32,
   "metadata": {},
   "outputs": [],
   "source": [
    "from abc import ABCMeta, abstractmethod\n",
    "from __future__ import annotations"
   ]
  },
  {
   "cell_type": "code",
   "execution_count": 33,
   "metadata": {},
   "outputs": [],
   "source": [
    "class Order:\n",
    "\n",
    "    \"\"\" Context \"\"\"\n",
    "\n",
    "    def __init__(self) -> None:\n",
    "        self.state: OrderState = PaymentPending(self)\n",
    "\n",
    "    def pending(self) -> None:\n",
    "        self.state.pending()\n",
    "\n",
    "    def approve(self) -> None:\n",
    "        self.state.approve()\n",
    "\n",
    "    def reject(self) -> None:\n",
    "        self.state.reject()"
   ]
  },
  {
   "cell_type": "code",
   "execution_count": 34,
   "metadata": {},
   "outputs": [],
   "source": [
    "class OrderState(metaclass = ABCMeta):\n",
    "    \n",
    "    \"\"\" State \"\"\"\n",
    "\n",
    "    def __init__(self, order: Order) -> None:\n",
    "        self.order: Order = order\n",
    "\n",
    "    @abstractmethod\n",
    "    def pending(self) -> None: pass\n",
    "\n",
    "    @abstractmethod\n",
    "    def approve(self) -> None: pass\n",
    "\n",
    "    @abstractmethod\n",
    "    def reject(self) -> None: pass\n",
    "\n",
    "    def __str__(self):\n",
    "        return f'Current status: {self.order.state.__class__.__name__}'"
   ]
  },
  {
   "cell_type": "code",
   "execution_count": 35,
   "metadata": {},
   "outputs": [],
   "source": [
    "class PaymentPending(OrderState):\n",
    "    \n",
    "    \"\"\" Concrete State \"\"\"\n",
    "\n",
    "    def pending(self) -> None: \n",
    "        print('Payment is already pending.')\n",
    "\n",
    "    def approve(self) -> None:\n",
    "        self.order.state = PaymentApproved(self.order)\n",
    "        print('Payment Accept')\n",
    "\n",
    "    def reject(self) -> None:\n",
    "        self.order.state = PaymentReject(self.order)\n",
    "        print('Rejected Payment')\n",
    "\n",
    "\n",
    "class PaymentApproved(OrderState):\n",
    "    \n",
    "    \"\"\" Concrete State \"\"\"\n",
    "\n",
    "    def pending(self) -> None:\n",
    "        self.order.state = PaymentPending(self.order)\n",
    "        print('Pending Payment')\n",
    "\n",
    "    def approve(self) -> None:\n",
    "        print('Payment is already approved.')\n",
    "\n",
    "    def reject(self) -> None: pass\n",
    "\n",
    "\n",
    "class PaymentReject(OrderState):\n",
    "    \n",
    "    \"\"\" Concrete State \"\"\"\n",
    "\n",
    "    def pending(self) -> None:\n",
    "        print('Payment is already rejected.')\n",
    "\n",
    "    def approve(self) -> None:\n",
    "        print('Payment is already rejected.')\n",
    "\n",
    "    def reject(self) -> None:\n",
    "        self.order.state = PaymentReject(self.order)\n",
    "        print('Rejected Payment')"
   ]
  },
  {
   "cell_type": "code",
   "execution_count": 37,
   "metadata": {},
   "outputs": [
    {
     "name": "stdout",
     "output_type": "stream",
     "text": [
      "Current status: PaymentPending\n",
      "Payment is already pending.\n",
      "\n",
      "Payment Accept\n",
      "Current status: PaymentApproved\n",
      "\n",
      "Pending Payment\n",
      "Current status: PaymentPending\n",
      "\n",
      "Rejected Payment\n",
      "Current status: PaymentReject\n",
      "\n",
      "Payment is already rejected.\n",
      "Current status: PaymentReject\n",
      "\n",
      "Payment is already rejected.\n",
      "Current status: PaymentReject\n"
     ]
    }
   ],
   "source": [
    "if __name__ == \"__main__\":\n",
    "    order = Order()\n",
    "\n",
    "    print(order.state)\n",
    "    order.pending()\n",
    "    \n",
    "    print()\n",
    "\n",
    "    order.approve()\n",
    "    print(order.state)\n",
    "\n",
    "    print()\n",
    "\n",
    "    order.pending()\n",
    "    print(order.state)\n",
    "\n",
    "    print()\n",
    "\n",
    "    order.reject()\n",
    "    print(order.state)\n",
    "\n",
    "    print()\n",
    "\n",
    "    order.approve()\n",
    "    print(order.state)\n",
    "\n",
    "    print()\n",
    "\n",
    "    order.pending()\n",
    "    print(order.state)"
   ]
  }
 ],
 "metadata": {
  "kernelspec": {
   "display_name": "Python 3.10.2 64-bit",
   "language": "python",
   "name": "python3"
  },
  "language_info": {
   "codemirror_mode": {
    "name": "ipython",
    "version": 3
   },
   "file_extension": ".py",
   "mimetype": "text/x-python",
   "name": "python",
   "nbconvert_exporter": "python",
   "pygments_lexer": "ipython3",
   "version": "3.10.2"
  },
  "orig_nbformat": 4,
  "vscode": {
   "interpreter": {
    "hash": "d3e10ef16274dd72e574b8fa73b58450b957d8421a2901baded3cca26fcf5dda"
   }
  }
 },
 "nbformat": 4,
 "nbformat_minor": 2
}
